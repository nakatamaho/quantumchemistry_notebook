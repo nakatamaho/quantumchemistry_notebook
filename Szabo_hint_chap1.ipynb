{
 "cells": [
  {
   "cell_type": "code",
   "execution_count": 1,
   "metadata": {},
   "outputs": [],
   "source": [
    "from sympy import *\n"
   ]
  },
  {
   "cell_type": "code",
   "execution_count": 2,
   "metadata": {},
   "outputs": [],
   "source": [
    "init_printing()"
   ]
  },
  {
   "cell_type": "markdown",
   "metadata": {},
   "source": [
    "Exercise 1.18 hint まず $$|\\tilde \\Phi \\rangle = N \\exp(-\\alpha x^2)$$ を規格化する"
   ]
  },
  {
   "cell_type": "code",
   "execution_count": 3,
   "metadata": {},
   "outputs": [],
   "source": [
    "x = symbols('x')\n"
   ]
  },
  {
   "cell_type": "code",
   "execution_count": 4,
   "metadata": {},
   "outputs": [],
   "source": [
    "α = symbols('α')\n"
   ]
  },
  {
   "cell_type": "code",
   "execution_count": 5,
   "metadata": {},
   "outputs": [
    {
     "data": {
      "image/png": "[encoded data removed]",
      "text/latex": [
       "$$\\frac{\\sqrt{2} \\sqrt{\\pi}}{2 \\sqrt{α}}$$"
      ],
      "text/plain": [
       "√2⋅√π\n",
       "─────\n",
       " 2⋅√α"
      ]
     },
     "execution_count": 5,
     "metadata": {},
     "output_type": "execute_result"
    }
   ],
   "source": [
    "A=simplify(integrate( exp(-α * x ** 2) * exp(-α * x ** 2), (x, -oo, oo)) )\n",
    "A.args[0][0]"
   ]
  },
  {
   "cell_type": "markdown",
   "metadata": {},
   "source": [
    " 次に、$$   \\langle \\tilde \\Phi | -\\frac{1}{2} \\frac{d^2}{dx^2}|\\tilde \\Phi \\rangle $$ を求める"
   ]
  },
  {
   "cell_type": "code",
   "execution_count": 6,
   "metadata": {},
   "outputs": [
    {
     "data": {
      "image/png": "[encoded data removed]",
      "text/latex": [
       "$$- \\frac{\\left(4 x^{2} α^{2} e^{- x^{2} α} - 2 α e^{- x^{2} α}\\right) e^{- x^{2} α}}{2}$$"
      ],
      "text/plain": [
       " ⎛           2            2  ⎞    2   \n",
       " ⎜   2  2  -x ⋅α        -x ⋅α⎟  -x ⋅α \n",
       "-⎝4⋅x ⋅α ⋅ℯ      - 2⋅α⋅ℯ     ⎠⋅ℯ      \n",
       "──────────────────────────────────────\n",
       "                  2                   "
      ]
     },
     "execution_count": 6,
     "metadata": {},
     "output_type": "execute_result"
    }
   ],
   "source": [
    "A=exp(-α * x**2 ) * Rational(-1/2) * diff (diff(exp(-α * x**2 ),x),x)\n",
    "A"
   ]
  },
  {
   "cell_type": "code",
   "execution_count": 7,
   "metadata": {},
   "outputs": [
    {
     "data": {
      "image/png": "[encoded data removed]",
      "text/latex": [
       "$$\\frac{\\sqrt{2} \\sqrt{\\pi} \\sqrt{α}}{4}$$"
      ],
      "text/plain": [
       "√2⋅√π⋅√α\n",
       "────────\n",
       "   4    "
      ]
     },
     "execution_count": 7,
     "metadata": {},
     "output_type": "execute_result"
    }
   ],
   "source": [
    "AA=integrate(exp(-α * x**2 ) * Rational(-1/2) * diff (diff(exp(-α * x**2 ),x),x), (x, -oo, oo) )\n",
    "AA.args[0][0]"
   ]
  },
  {
   "cell_type": "markdown",
   "metadata": {},
   "source": [
    "最後に$$ \\langle \\tilde \\Phi | \\delta(x) |\\tilde \\Phi \\rangle $$ を求める"
   ]
  },
  {
   "cell_type": "code",
   "execution_count": 8,
   "metadata": {},
   "outputs": [
    {
     "data": {
      "image/png": "[encoded data removed]",
      "text/latex": [
       "$$1$$"
      ],
      "text/plain": [
       "1"
      ]
     },
     "execution_count": 8,
     "metadata": {},
     "output_type": "execute_result"
    }
   ],
   "source": [
    "BB=integrate(exp(-α * x**2 ) * DiracDelta(x) * exp(-α * x**2), (x, -oo, oo) )\n",
    "BB"
   ]
  },
  {
   "cell_type": "markdown",
   "metadata": {},
   "source": [
    "Exercise 1.19 hint\n",
    " まず$$   \\langle \\tilde \\Phi | -\\frac{1}{2} \\nabla^2 |\\tilde \\Phi \\rangle $$ を求め、つぎに\n",
    " $$   \\langle \\tilde \\Phi | -\\frac{1}{r} |\\tilde \\Phi \\rangle $$ に求める。三次元球面座標になってることに注意。$$ dx dy dx = r^2 \\sin\\theta dr d\\theta d\\phi$$　になる。"
   ]
  },
  {
   "cell_type": "code",
   "execution_count": 9,
   "metadata": {},
   "outputs": [],
   "source": [
    "r = symbols('r')\n"
   ]
  },
  {
   "cell_type": "code",
   "execution_count": 10,
   "metadata": {},
   "outputs": [],
   "source": [
    "π = symbols('π')"
   ]
  },
  {
   "cell_type": "code",
   "execution_count": 11,
   "metadata": {},
   "outputs": [
    {
     "data": {
      "image/png": "[encoded data removed]",
      "text/latex": [
       "$$- 4 r^{2} α π \\left(2 r^{2} α - 3\\right) e^{- 2 r^{2} α}$$"
      ],
      "text/plain": [
       "                            2  \n",
       "    2     ⎛   2      ⎞  -2⋅r ⋅α\n",
       "-4⋅r ⋅α⋅π⋅⎝2⋅r ⋅α - 3⎠⋅ℯ       "
      ]
     },
     "execution_count": 11,
     "metadata": {},
     "output_type": "execute_result"
    }
   ],
   "source": [
    "B= 4 * π * r ** 2 * exp(-α * r**2 ) * -1/2 * simplify( 1 / r**2 * diff ( r**2 * diff(exp(-α * r**2 ),r),r) )\n",
    "B"
   ]
  },
  {
   "cell_type": "code",
   "execution_count": 12,
   "metadata": {},
   "outputs": [
    {
     "data": {
      "image/png": "[encoded data removed]",
      "text/latex": [
       "$$\\frac{3 \\sqrt{2} \\sqrt{\\pi} π}{8 \\sqrt{α}}$$"
      ],
      "text/plain": [
       "3⋅√2⋅√π⋅π\n",
       "─────────\n",
       "   8⋅√α  "
      ]
     },
     "execution_count": 12,
     "metadata": {},
     "output_type": "execute_result"
    }
   ],
   "source": [
    "BB=integrate( B, (r, 0, oo))\n",
    "BB.args[0][0]"
   ]
  },
  {
   "cell_type": "code",
   "execution_count": 13,
   "metadata": {},
   "outputs": [
    {
     "data": {
      "image/png": "[encoded data removed]",
      "text/latex": [
       "$$- 4 r π e^{- 2 r^{2} α}$$"
      ],
      "text/plain": [
       "            2  \n",
       "        -2⋅r ⋅α\n",
       "-4⋅r⋅π⋅ℯ       "
      ]
     },
     "execution_count": 13,
     "metadata": {},
     "output_type": "execute_result"
    }
   ],
   "source": [
    "BBB= 4 * π * r ** 2 * exp(-α * r**2 ) * -1/r* exp(-α * r**2 )\n",
    "BBB"
   ]
  },
  {
   "cell_type": "code",
   "execution_count": 14,
   "metadata": {},
   "outputs": [
    {
     "data": {
      "image/png": "[encoded data removed]",
      "text/latex": [
       "$$- \\frac{π}{α}$$"
      ],
      "text/plain": [
       "-π \n",
       "───\n",
       " α "
      ]
     },
     "execution_count": 14,
     "metadata": {},
     "output_type": "execute_result"
    }
   ],
   "source": [
    "BBBB=integrate( BBB, (r, 0, oo))\n",
    "BBBB.args[0][0]"
   ]
  },
  {
   "cell_type": "markdown",
   "metadata": {},
   "source": [
    "規格化因子$$   \\langle \\tilde \\Phi |\\tilde \\Phi \\rangle / N^2 $$ も求めておこう"
   ]
  },
  {
   "cell_type": "code",
   "execution_count": 15,
   "metadata": {},
   "outputs": [
    {
     "data": {
      "image/png": "[encoded data removed]",
      "text/latex": [
       "$$\\frac{\\sqrt{2} \\sqrt{\\pi} π}{4 α^{\\frac{3}{2}}}$$"
      ],
      "text/plain": [
       "√2⋅√π⋅π\n",
       "───────\n",
       "    3/2\n",
       " 4⋅α   "
      ]
     },
     "execution_count": 15,
     "metadata": {},
     "output_type": "execute_result"
    }
   ],
   "source": [
    "C=integrate(4 * π * r** 2 * exp(-α * r**2 )  * exp(-α * r**2), (r, 0, oo) )\n",
    "C.args[0][0]"
   ]
  },
  {
   "cell_type": "markdown",
   "metadata": {},
   "source": [
    "Exercise 1.20 hint とにかく計算を楽にするのみ。"
   ]
  },
  {
   "cell_type": "code",
   "execution_count": 16,
   "metadata": {},
   "outputs": [],
   "source": [
    "θ = symbols('θ')"
   ]
  },
  {
   "cell_type": "code",
   "execution_count": 17,
   "metadata": {},
   "outputs": [],
   "source": [
    "c = Matrix([\n",
    "    [cos(θ)],[sin(θ)]\n",
    "])"
   ]
  },
  {
   "cell_type": "code",
   "execution_count": 18,
   "metadata": {},
   "outputs": [],
   "source": [
    "O11, O12, O22 = symbols('O11 O12 O22')"
   ]
  },
  {
   "cell_type": "code",
   "execution_count": 19,
   "metadata": {},
   "outputs": [],
   "source": [
    "O = Matrix([\n",
    "    [O11, O12], [O12, O22]\n",
    "])"
   ]
  },
  {
   "cell_type": "code",
   "execution_count": 20,
   "metadata": {},
   "outputs": [
    {
     "data": {
      "image/png": "[encoded data removed]",
      "text/latex": [
       "$$\\left[\\begin{matrix}O_{11} & O_{12}\\\\O_{12} & O_{22}\\end{matrix}\\right]$$"
      ],
      "text/plain": [
       "⎡O₁₁  O₁₂⎤\n",
       "⎢        ⎥\n",
       "⎣O₁₂  O₂₂⎦"
      ]
     },
     "execution_count": 20,
     "metadata": {},
     "output_type": "execute_result"
    }
   ],
   "source": [
    "O"
   ]
  },
  {
   "cell_type": "code",
   "execution_count": 21,
   "metadata": {},
   "outputs": [
    {
     "data": {
      "text/latex": [
       "$$\\left[\\begin{matrix}\\cos{\\left (θ \\right )}\\\\\\sin{\\left (θ \\right )}\\end{matrix}\\right]$$"
      ],
      "text/plain": [
       "⎡cos(θ)⎤\n",
       "⎢      ⎥\n",
       "⎣sin(θ)⎦"
      ]
     },
     "execution_count": 21,
     "metadata": {},
     "output_type": "execute_result"
    }
   ],
   "source": [
    "c"
   ]
  },
  {
   "cell_type": "code",
   "execution_count": 22,
   "metadata": {},
   "outputs": [
    {
     "data": {
      "text/latex": [
       "$$\\left[\\begin{matrix}\\cos{\\left (θ \\right )} & \\sin{\\left (θ \\right )}\\end{matrix}\\right]$$"
      ],
      "text/plain": [
       "[cos(θ)  sin(θ)]"
      ]
     },
     "execution_count": 22,
     "metadata": {},
     "output_type": "execute_result"
    }
   ],
   "source": [
    "c.T"
   ]
  },
  {
   "cell_type": "code",
   "execution_count": 23,
   "metadata": {},
   "outputs": [
    {
     "data": {
      "text/latex": [
       "$$\\left[\\begin{matrix}\\left(O_{11} \\cos{\\left (θ \\right )} + O_{12} \\sin{\\left (θ \\right )}\\right) \\cos{\\left (θ \\right )} + \\left(O_{12} \\cos{\\left (θ \\right )} + O_{22} \\sin{\\left (θ \\right )}\\right) \\sin{\\left (θ \\right )}\\end{matrix}\\right]$$"
      ],
      "text/plain": [
       "[(O₁₁⋅cos(θ) + O₁₂⋅sin(θ))⋅cos(θ) + (O₁₂⋅cos(θ) + O₂₂⋅sin(θ))⋅sin(θ)]"
      ]
     },
     "execution_count": 23,
     "metadata": {},
     "output_type": "execute_result"
    }
   ],
   "source": [
    "c.T * O * c"
   ]
  },
  {
   "cell_type": "code",
   "execution_count": 24,
   "metadata": {},
   "outputs": [
    {
     "data": {
      "text/latex": [
       "$$\\left[\\begin{matrix}\\left(- O_{11} \\sin{\\left (θ \\right )} + O_{12} \\cos{\\left (θ \\right )}\\right) \\cos{\\left (θ \\right )} - \\left(O_{11} \\cos{\\left (θ \\right )} + O_{12} \\sin{\\left (θ \\right )}\\right) \\sin{\\left (θ \\right )} + \\left(- O_{12} \\sin{\\left (θ \\right )} + O_{22} \\cos{\\left (θ \\right )}\\right) \\sin{\\left (θ \\right )} + \\left(O_{12} \\cos{\\left (θ \\right )} + O_{22} \\sin{\\left (θ \\right )}\\right) \\cos{\\left (θ \\right )}\\end{matrix}\\right]$$"
      ],
      "text/plain": [
       "[(-O₁₁⋅sin(θ) + O₁₂⋅cos(θ))⋅cos(θ) - (O₁₁⋅cos(θ) + O₁₂⋅sin(θ))⋅sin(θ) + (-O₁₂⋅\n",
       "sin(θ) + O₂₂⋅cos(θ))⋅sin(θ) + (O₁₂⋅cos(θ) + O₂₂⋅sin(θ))⋅cos(θ)]"
      ]
     },
     "execution_count": 24,
     "metadata": {},
     "output_type": "execute_result"
    }
   ],
   "source": [
    "diff(c.T*O*c, θ)"
   ]
  },
  {
   "cell_type": "code",
   "execution_count": 25,
   "metadata": {},
   "outputs": [
    {
     "data": {
      "text/latex": [
       "$$\\left[\\begin{matrix}\\left(- O_{11} \\sin{\\left (θ \\right )} + O_{12} \\cos{\\left (θ \\right )}\\right) \\cos{\\left (θ \\right )} - \\left(O_{11} \\cos{\\left (θ \\right )} + O_{12} \\sin{\\left (θ \\right )}\\right) \\sin{\\left (θ \\right )} + \\left(- O_{12} \\sin{\\left (θ \\right )} + O_{22} \\cos{\\left (θ \\right )}\\right) \\sin{\\left (θ \\right )} + \\left(O_{12} \\cos{\\left (θ \\right )} + O_{22} \\sin{\\left (θ \\right )}\\right) \\cos{\\left (θ \\right )}\\end{matrix}\\right]$$"
      ],
      "text/plain": [
       "[(-O₁₁⋅sin(θ) + O₁₂⋅cos(θ))⋅cos(θ) - (O₁₁⋅cos(θ) + O₁₂⋅sin(θ))⋅sin(θ) + (-O₁₂⋅\n",
       "sin(θ) + O₂₂⋅cos(θ))⋅sin(θ) + (O₁₂⋅cos(θ) + O₂₂⋅sin(θ))⋅cos(θ)]"
      ]
     },
     "execution_count": 25,
     "metadata": {},
     "output_type": "execute_result"
    }
   ],
   "source": [
    "diff(c.T*O*c, θ)"
   ]
  },
  {
   "cell_type": "code",
   "execution_count": 26,
   "metadata": {},
   "outputs": [
    {
     "data": {
      "text/latex": [
       "$$\\left[\\begin{matrix}- O_{11} \\sin{\\left (2 θ \\right )} + 2 O_{12} \\cos{\\left (2 θ \\right )} + O_{22} \\sin{\\left (2 θ \\right )}\\end{matrix}\\right]$$"
      ],
      "text/plain": [
       "[-O₁₁⋅sin(2⋅θ) + 2⋅O₁₂⋅cos(2⋅θ) + O₂₂⋅sin(2⋅θ)]"
      ]
     },
     "execution_count": 26,
     "metadata": {},
     "output_type": "execute_result"
    }
   ],
   "source": [
    "simplify(diff(c.T*O*c, θ))"
   ]
  },
  {
   "cell_type": "markdown",
   "metadata": {},
   "source": [
    "Exercise 1.22 Hamiltonian行列を作成し、永年方程式を作り、対角化する。"
   ]
  },
  {
   "cell_type": "code",
   "execution_count": 27,
   "metadata": {},
   "outputs": [],
   "source": [
    "π = symbols('π')"
   ]
  },
  {
   "cell_type": "code",
   "execution_count": 28,
   "metadata": {},
   "outputs": [],
   "source": [
    "F = symbols('F')"
   ]
  },
  {
   "cell_type": "code",
   "execution_count": 29,
   "metadata": {},
   "outputs": [],
   "source": [
    "r = symbols ('r')"
   ]
  },
  {
   "cell_type": "code",
   "execution_count": 30,
   "metadata": {},
   "outputs": [],
   "source": [
    "ϕ = symbols ('ϕ')"
   ]
  },
  {
   "cell_type": "code",
   "execution_count": 31,
   "metadata": {},
   "outputs": [
    {
     "data": {
      "image/png": "[encoded data removed]",
      "text/latex": [
       "$$\\frac{e^{- r}}{\\sqrt{π}}$$"
      ],
      "text/plain": [
       " -r\n",
       "ℯ  \n",
       "───\n",
       " √π"
      ]
     },
     "execution_count": 31,
     "metadata": {},
     "output_type": "execute_result"
    }
   ],
   "source": [
    "ψ_1s=1/sqrt(π) * exp(-r)\n",
    "ψ_1s"
   ]
  },
  {
   "cell_type": "code",
   "execution_count": 32,
   "metadata": {},
   "outputs": [
    {
     "data": {
      "image/png": "[encoded data removed]",
      "text/latex": [
       "$$\\frac{\\sqrt{2} r e^{- \\frac{r}{2}} \\cos{\\left (θ \\right )}}{8 \\sqrt{π}}$$"
      ],
      "text/plain": [
       "      -r        \n",
       "      ───       \n",
       "       2        \n",
       "√2⋅r⋅ℯ   ⋅cos(θ)\n",
       "────────────────\n",
       "      8⋅√π      "
      ]
     },
     "execution_count": 32,
     "metadata": {},
     "output_type": "execute_result"
    }
   ],
   "source": [
    "ψ_2p = 1/sqrt(32 * π) * r * exp(-r/2) * cos(θ)\n",
    "ψ_2p"
   ]
  },
  {
   "cell_type": "markdown",
   "metadata": {},
   "source": [
    "まず、$$   \\langle 1s |  H_0 + F\\cos(\\theta) | 1s \\rangle  = -\\frac{1}{2}$$ 対称性より外場部分は0となる"
   ]
  },
  {
   "cell_type": "markdown",
   "metadata": {},
   "source": [
    "実際、$$   \\langle 1s |   F\\cos(\\theta) | 1s \\rangle  $$を計算すると"
   ]
  },
  {
   "cell_type": "code",
   "execution_count": 33,
   "metadata": {},
   "outputs": [
    {
     "data": {
      "image/png": "[encoded data removed]",
      "text/latex": [
       "$$\\frac{3 F \\sin^{2}{\\left (π \\right )}}{8}$$"
      ],
      "text/plain": [
       "       2   \n",
       "3⋅F⋅sin (π)\n",
       "───────────\n",
       "     8     "
      ]
     },
     "execution_count": 33,
     "metadata": {},
     "output_type": "execute_result"
    }
   ],
   "source": [
    "integrate( ψ_1s * F * r * cos(θ) * ψ_1s * r**2 * sin(θ), (r,0,oo) , (θ,0,π), (ϕ, 0, 2 * π))"
   ]
  },
  {
   "cell_type": "markdown",
   "metadata": {},
   "source": [
    "次に$$   \\langle 2p |  H_0 + F\\cos(\\theta) | 2p  \\rangle  = -\\frac{1}{8}$$ 同じく対称性より外場部分は0となる。実際"
   ]
  },
  {
   "cell_type": "code",
   "execution_count": 34,
   "metadata": {},
   "outputs": [
    {
     "data": {
      "image/png": "[encoded data removed]",
      "text/latex": [
       "$$\\frac{15 F \\left(- \\cos^{4}{\\left (π \\right )} + 1\\right)}{8}$$"
      ],
      "text/plain": [
       "     ⎛     4       ⎞\n",
       "15⋅F⋅⎝- cos (π) + 1⎠\n",
       "────────────────────\n",
       "         8          "
      ]
     },
     "execution_count": 34,
     "metadata": {},
     "output_type": "execute_result"
    }
   ],
   "source": [
    "simplify(integrate( ψ_2p * F * r * cos(θ) * ψ_2p * r**2 * sin(θ), (r,0,oo) , (θ,0,π), (ϕ, 0, 2 * π)) )"
   ]
  },
  {
   "cell_type": "markdown",
   "metadata": {},
   "source": [
    "最後に$$   \\langle 1s |  H_0 + F\\cos(\\theta) | 2p  \\rangle $$を計算する"
   ]
  },
  {
   "cell_type": "code",
   "execution_count": 35,
   "metadata": {},
   "outputs": [
    {
     "data": {
      "image/png": "[encoded data removed]",
      "text/latex": [
       "$$\\frac{64 \\sqrt{2} F \\left(- \\cos^{3}{\\left (π \\right )} + 1\\right)}{243}$$"
      ],
      "text/plain": [
       "        ⎛     3       ⎞\n",
       "64⋅√2⋅F⋅⎝- cos (π) + 1⎠\n",
       "───────────────────────\n",
       "          243          "
      ]
     },
     "execution_count": 35,
     "metadata": {},
     "output_type": "execute_result"
    }
   ],
   "source": [
    "simplify(integrate( ψ_1s * F * r * cos(θ) * ψ_2p * r**2 * sin(θ), (r,0,oo) , (θ,0,π), (ϕ, 0, 2 * π)) )"
   ]
  },
  {
   "cell_type": "markdown",
   "metadata": {},
   "source": [
    "$$-cos^3(\\pi) + 1 = 2$$だから"
   ]
  },
  {
   "cell_type": "code",
   "execution_count": 38,
   "metadata": {},
   "outputs": [
    {
     "data": {
      "image/png": "[encoded data removed]",
      "text/latex": [
       "$$\\frac{128 \\sqrt{2} F}{243}$$"
      ],
      "text/plain": [
       "128⋅√2⋅F\n",
       "────────\n",
       "  243   "
      ]
     },
     "execution_count": 38,
     "metadata": {},
     "output_type": "execute_result"
    }
   ],
   "source": [
    "128 * sqrt(2) / 243 * F"
   ]
  },
  {
   "cell_type": "markdown",
   "metadata": {},
   "source": [
    "となる。"
   ]
  },
  {
   "cell_type": "code",
   "execution_count": 39,
   "metadata": {},
   "outputs": [],
   "source": []
  },
  {
   "cell_type": "code",
   "execution_count": null,
   "metadata": {},
   "outputs": [],
   "source": []
  }
 ],
 "metadata": {
  "kernelspec": {
   "display_name": "Python 3",
   "language": "python",
   "name": "python3"
  },
  "language_info": {
   "codemirror_mode": {
    "name": "ipython",
    "version": 3
   },
   "file_extension": ".py",
   "mimetype": "text/x-python",
   "name": "python",
   "nbconvert_exporter": "python",
   "pygments_lexer": "ipython3",
   "version": "3.7.0"
  }
 },
 "nbformat": 4,
 "nbformat_minor": 2
}
