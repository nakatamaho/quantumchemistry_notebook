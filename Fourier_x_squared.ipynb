{
 "cells": [
  {
   "cell_type": "code",
   "execution_count": 1,
   "metadata": {
    "collapsed": true
   },
   "outputs": [],
   "source": [
    "from sympy import *"
   ]
  },
  {
   "cell_type": "code",
   "execution_count": 2,
   "metadata": {
    "collapsed": false
   },
   "outputs": [],
   "source": [
    "import matplotlib.pyplot as plt"
   ]
  },
  {
   "cell_type": "code",
   "execution_count": 3,
   "metadata": {
    "collapsed": true
   },
   "outputs": [],
   "source": [
    "%matplotlib inline"
   ]
  },
  {
   "cell_type": "code",
   "execution_count": 4,
   "metadata": {
    "collapsed": true
   },
   "outputs": [],
   "source": [
    "init_printing()"
   ]
  },
  {
   "cell_type": "code",
   "execution_count": 5,
   "metadata": {
    "collapsed": true
   },
   "outputs": [],
   "source": [
    "x = Symbol('x')"
   ]
  },
  {
   "cell_type": "code",
   "execution_count": 6,
   "metadata": {
    "collapsed": false
   },
   "outputs": [],
   "source": [
    "n = Symbol ('n', integer=True, positive=True)"
   ]
  },
  {
   "cell_type": "code",
   "execution_count": 7,
   "metadata": {
    "collapsed": false
   },
   "outputs": [
    {
     "data": {
      "image/png": "[encoded data removed]",
      "text/latex": [
       "$$\\frac{1}{\\sqrt{\\pi}} \\int_{- \\pi}^{\\pi} x^{2} \\sin{\\left (n x \\right )}\\, dx = 0$$"
      ],
      "text/plain": [
       "π                    \n",
       "⌠                    \n",
       "⎮   2                \n",
       "⎮  x ⋅sin(n⋅x) dx    \n",
       "⌡                    \n",
       "-π                   \n",
       "───────────────── = 0\n",
       "        √π           "
      ]
     },
     "execution_count": 7,
     "metadata": {},
     "output_type": "execute_result"
    }
   ],
   "source": [
    "a= Integral(x*x*sin(n*x),(x,-pi,pi))/sqrt(pi)\n",
    "Eq(a,simplify(a.doit()))"
   ]
  },
  {
   "cell_type": "code",
   "execution_count": 8,
   "metadata": {
    "collapsed": false
   },
   "outputs": [
    {
     "data": {
      "image/png": "[encoded data removed]",
      "text/latex": [
       "$$\\frac{1}{\\sqrt{\\pi}} \\int_{- \\pi}^{\\pi} x^{2} \\cos{\\left (n x \\right )}\\, dx = \\frac{4 \\left(-1\\right)^{n}}{n^{2}} \\sqrt{\\pi}$$"
      ],
      "text/plain": [
       "π                             \n",
       "⌠                             \n",
       "⎮   2                         \n",
       "⎮  x ⋅cos(n⋅x) dx             \n",
       "⌡                         n   \n",
       "-π                  4⋅(-1) ⋅√π\n",
       "───────────────── = ──────────\n",
       "        √π               2    \n",
       "                        n     "
      ]
     },
     "execution_count": 8,
     "metadata": {},
     "output_type": "execute_result"
    }
   ],
   "source": [
    "b= Integral(x*x*cos(n*x),(x,-pi,pi))/sqrt(pi)\n",
    "Eq(b,simplify(b.doit()))"
   ]
  },
  {
   "cell_type": "code",
   "execution_count": 9,
   "metadata": {
    "collapsed": false
   },
   "outputs": [
    {
     "data": {
      "image/png": "[encoded data removed]",
      "text/latex": [
       "$$\\frac{\\sqrt{2}}{2 \\sqrt{\\pi}} \\int_{- \\pi}^{\\pi} x^{2}\\, dx = \\frac{\\sqrt{2} \\pi^{\\frac{5}{2}}}{3}$$"
      ],
      "text/plain": [
       "   π                 \n",
       "   ⌠                 \n",
       "   ⎮   2             \n",
       "√2⋅⎮  x  dx          \n",
       "   ⌡              5/2\n",
       "   -π         √2⋅π   \n",
       "─────────── = ───────\n",
       "    2⋅√π         3   "
      ]
     },
     "execution_count": 9,
     "metadata": {},
     "output_type": "execute_result"
    }
   ],
   "source": [
    "g=Integral(x*x,(x,-pi,pi))/sqrt(2*pi)\n",
    "Eq(g,g.doit())"
   ]
  },
  {
   "cell_type": "code",
   "execution_count": 10,
   "metadata": {
    "collapsed": false
   },
   "outputs": [
    {
     "data": {
      "image/png": "[encoded data removed]",
      "text/latex": [
       "$$\\frac{\\pi^{2}}{3}$$"
      ],
      "text/plain": [
       " 2\n",
       "π \n",
       "──\n",
       "3 "
      ]
     },
     "execution_count": 10,
     "metadata": {},
     "output_type": "execute_result"
    }
   ],
   "source": [
    "c_zero=g.doit()/sqrt(2*pi)\n",
    "c_zero"
   ]
  },
  {
   "cell_type": "code",
   "execution_count": 11,
   "metadata": {
    "collapsed": false
   },
   "outputs": [
    {
     "data": {
      "image/png": "[encoded data removed]",
      "text/latex": [
       "$$\\frac{4 \\left(-1\\right)^{n}}{n^{2}} \\cos{\\left (n x \\right )}$$"
      ],
      "text/plain": [
       "      n         \n",
       "4⋅(-1) ⋅cos(n⋅x)\n",
       "────────────────\n",
       "        2       \n",
       "       n        "
      ]
     },
     "execution_count": 11,
     "metadata": {},
     "output_type": "execute_result"
    }
   ],
   "source": [
    "c=simplify(b.doit())/(sqrt(pi))*cos(n*x)\n",
    "c"
   ]
  },
  {
   "cell_type": "code",
   "execution_count": 12,
   "metadata": {
    "collapsed": false
   },
   "outputs": [
    {
     "data": {
      "image/png": "[encoded data removed]",
      "text/latex": [
       "$$\\sum_{n=1}^{20} \\frac{4 \\left(-1\\right)^{n}}{n^{2}} \\cos{\\left (n x \\right )} + \\frac{\\pi^{2}}{3} = - 4 \\cos{\\left (x \\right )} + \\cos{\\left (2 x \\right )} - \\frac{4}{9} \\cos{\\left (3 x \\right )} + \\frac{1}{4} \\cos{\\left (4 x \\right )} - \\frac{4}{25} \\cos{\\left (5 x \\right )} + \\frac{1}{9} \\cos{\\left (6 x \\right )} - \\frac{4}{49} \\cos{\\left (7 x \\right )} + \\frac{1}{16} \\cos{\\left (8 x \\right )} - \\frac{4}{81} \\cos{\\left (9 x \\right )} + \\frac{1}{25} \\cos{\\left (10 x \\right )} - \\frac{4}{121} \\cos{\\left (11 x \\right )} + \\frac{1}{36} \\cos{\\left (12 x \\right )} - \\frac{4}{169} \\cos{\\left (13 x \\right )} + \\frac{1}{49} \\cos{\\left (14 x \\right )} - \\frac{4}{225} \\cos{\\left (15 x \\right )} + \\frac{1}{64} \\cos{\\left (16 x \\right )} - \\frac{4}{289} \\cos{\\left (17 x \\right )} + \\frac{1}{81} \\cos{\\left (18 x \\right )} - \\frac{4}{361} \\cos{\\left (19 x \\right )} + \\frac{1}{100} \\cos{\\left (20 x \\right )} + \\frac{\\pi^{2}}{3}$$"
      ],
      "text/plain": [
       "  20                                                                          \n",
       "_____                                                                         \n",
       "╲                                                                             \n",
       " ╲          n                                                                 \n",
       "  ╲   4⋅(-1) ⋅cos(n⋅x)    2                                                   \n",
       "   ╲  ────────────────   π                           4⋅cos(3⋅x)   cos(4⋅x)   4\n",
       "   ╱          2        + ── = -4⋅cos(x) + cos(2⋅x) - ────────── + ──────── - ─\n",
       "  ╱          n           3                               9           4        \n",
       " ╱                                                                            \n",
       "╱                                                                             \n",
       "‾‾‾‾‾                                                                         \n",
       "n = 1                                                                         \n",
       "\n",
       "                                                                              \n",
       "                                                                              \n",
       "                                                                              \n",
       "                                                                              \n",
       "                                                                              \n",
       "⋅cos(5⋅x)   cos(6⋅x)   4⋅cos(7⋅x)   cos(8⋅x)   4⋅cos(9⋅x)   cos(10⋅x)   4⋅cos(\n",
       "───────── + ──────── - ────────── + ──────── - ────────── + ───────── - ──────\n",
       "   25          9           49          16          81           25          12\n",
       "                                                                              \n",
       "                                                                              \n",
       "                                                                              \n",
       "                                                                              \n",
       "\n",
       "                                                                              \n",
       "                                                                              \n",
       "                                                                              \n",
       "                                                                              \n",
       "                                                                              \n",
       "11⋅x)   cos(12⋅x)   4⋅cos(13⋅x)   cos(14⋅x)   4⋅cos(15⋅x)   cos(16⋅x)   4⋅cos(\n",
       "───── + ───────── - ─────────── + ───────── - ─────────── + ───────── - ──────\n",
       "1           36          169           49          225           64          28\n",
       "                                                                              \n",
       "                                                                              \n",
       "                                                                              \n",
       "                                                                              \n",
       "\n",
       "                                                \n",
       "                                                \n",
       "                                                \n",
       "                                                \n",
       "                                               2\n",
       "17⋅x)   cos(18⋅x)   4⋅cos(19⋅x)   cos(20⋅x)   π \n",
       "───── + ───────── - ─────────── + ───────── + ──\n",
       "9           81          361          100      3 \n",
       "                                                \n",
       "                                                \n",
       "                                                \n",
       "                                                "
      ]
     },
     "execution_count": 12,
     "metadata": {},
     "output_type": "execute_result"
    }
   ],
   "source": [
    "d=Sum(c,(n,1,20))\n",
    "Eq(d+c_zero,d.doit()+c_zero)"
   ]
  },
  {
   "cell_type": "code",
   "execution_count": 13,
   "metadata": {
    "collapsed": true
   },
   "outputs": [],
   "source": [
    "f=d.doit()+c_zero"
   ]
  },
  {
   "cell_type": "code",
   "execution_count": 14,
   "metadata": {
    "collapsed": false
   },
   "outputs": [
    {
     "data": {
      "image/png": "[encoded data removed]",
      "text/plain": [
       "<matplotlib.figure.Figure at 0x1141063c8>"
      ]
     },
     "metadata": {},
     "output_type": "display_data"
    },
    {
     "data": {
      "text/plain": [
       "<sympy.plotting.plot.Plot at 0x1140beac8>"
      ]
     },
     "execution_count": 14,
     "metadata": {},
     "output_type": "execute_result"
    }
   ],
   "source": [
    "plot(f,(x,-pi,pi))"
   ]
  },
  {
   "cell_type": "code",
   "execution_count": null,
   "metadata": {
    "collapsed": true
   },
   "outputs": [],
   "source": []
  }
 ],
 "metadata": {
  "kernelspec": {
   "display_name": "Python 3",
   "language": "python",
   "name": "python3"
  },
  "language_info": {
   "codemirror_mode": {
    "name": "ipython",
    "version": 3
   },
   "file_extension": ".py",
   "mimetype": "text/x-python",
   "name": "python",
   "nbconvert_exporter": "python",
   "pygments_lexer": "ipython3",
   "version": "3.5.3"
  }
 },
 "nbformat": 4,
 "nbformat_minor": 0
}
