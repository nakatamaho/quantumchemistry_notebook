{
 "cells": [
  {
   "cell_type": "markdown",
   "id": "c0d9ee5b-48a8-46b3-a556-097da2cd30a8",
   "metadata": {},
   "source": [
    "密度行列は量子力学の基本変数です。そして密度行列は$\\rho^\\dagger=\\rho, \\rm{tr} \\rho =1$ および$\\rho \\succeq 0$を満たす必要があります。ただ、最後の$\\rho \\succeq 0$、つまり半正定値条件は行列の固有値が0以上というもので、取り扱いが面倒です。同値な条件はいくつか知られています。その一つに$\\rho \\succeq 0 \\Leftrightarrow$ すべての主小行列式がゼロ以上、というのがあります(佐竹線形代数p.163 §4, 定理6 とその脚注参照)\n",
    "これを使うと、密度行列の要素から有限個の不等式で書き下すことができます。\n",
    "\n",
    "今回は3準位系の密度行列$\\rho$に対する条件を、密度行列の要素の不等式で書き下す、ということをしてみます。ただ、無駄に面倒なので、雑に調べて終わりにしました。"
   ]
  },
  {
   "cell_type": "markdown",
   "id": "fe5afdfc-6b3c-436c-b438-56a969d499c6",
   "metadata": {},
   "source": [
    "三準位系では、$3\\times 3$の密度行列になり、主小行列式は$2^3=8$個でてきます($n \\times n$だと$2^n$個となります)。今後のことを考えると、減らしたいところです。ところで、半正定値条件でなく、正定値条件$\\rho \\succ 0$は、$\\rho$のすべての主座小行列式がゼロと同値なので、3個、$n \\times n$の密度行列でも$n$個の行列式を調べるだけでokです。これに還元してやるという手法を使えばよいです。"
   ]
  },
  {
   "cell_type": "markdown",
   "id": "7943e197-1b7f-4039-8ac5-e827db4f59ed",
   "metadata": {},
   "source": [
    "半正定値条件を正定値条件で書くには、$\\rho$に単位行列×微小数の正定値条件を調べればokです。\n",
    "もう少し丁寧に書くと$\\rho$の半正定値条件は、$\\rho\\succeq 0 \\Leftrightarrow\\forall{}\\varepsilon>0,\\quad \\rho+\\varepsilon I \\succ0$となります。よって、$\\rho+\\varepsilon I$の首座行列式たちを考えて、$\\varepsilon$のべきでまとめ、各項を精査するという方針をとります。$I$は$n\\times n$の単位行列です。"
   ]
  },
  {
   "cell_type": "markdown",
   "id": "1bfb5b86-1bc8-4e05-b1b5-85d5b09a2f46",
   "metadata": {},
   "source": [
    "この証明は$\\mathbb{R} \\ni x, \\varepsilon$ について$x\\geq 0 \\Leftrightarrow \\forall{}\\varepsilon>0, x+\\varepsilon > 0$について考えてみるとすぐわかります。(なお対偶をとると、$\\exists \\varepsilon >0, x+\\varepsilon \\leq 0 \\Leftrightarrow x < 0$なので、自明だと思います)"
   ]
  },
  {
   "cell_type": "markdown",
   "id": "47ce3208-3dd3-4e21-b87e-2b274f4cc07d",
   "metadata": {},
   "source": [
    "堀田量子本には、3準位系の密度行列$\\rho$に対する条件は露わには書いてありませんでした。Phys. Lett. A 314, 339 (2003)を参照せよとあります。今回は、そのarXiv版であるhttps://arxiv.org/abs/quant-ph/0301152 を参照しつつ、見てゆきましょう。"
   ]
  },
  {
   "cell_type": "markdown",
   "id": "2fec75fa-3fcc-4ff9-876b-bec0b5c2d6ed",
   "metadata": {},
   "source": [
    "この場合、式(3.15)は変更され、\n",
    "$\\hat{\\lambda}_{n}^{\\dagger}=\\hat{\\lambda}_{n}, \\operatorname{Tr}\\left[\\hat{\\lambda}_{n}\\right]=0, \\operatorname{Tr}\\left[\\hat{\\lambda}_{n} \\hat{\\lambda}_{n^{\\prime}}\\right]=N \\delta_{n n^{\\prime}}$\n",
    "から、\n",
    "$\\hat{\\lambda}_{n}^{\\dagger}=\\hat{\\lambda}_{n}, \\operatorname{Tr}\\left[\\hat{\\lambda}_{n}\\right]=0, \\operatorname{Tr}\\left[\\hat{\\lambda}_{n} \\hat{\\lambda}_{n^{\\prime}}\\right]=2 \\delta_{n n^{\\prime}}$\n",
    "と定数が変わります。\n",
    "それに伴い、密度行列も\n",
    "$\\hat{\\rho}=\\frac{1}{N}\\left(\\hat{I}+\\sum_{n=1}^{N^{2}-1}\\left\\langle\\lambda_{n}\\right\\rangle \\hat{\\lambda}_{n}\\right)$\n",
    "から、\n",
    "$\\hat{\\rho}=\\frac{1}{N} \\hat{I}+\\frac{1}{2} \\left ( \\sum_{n=1}^{N^{2}-1}\\left\\langle\\lambda_{n}\\right\\rangle \\hat{\\lambda}_{n} \\right )$という式を使うように変更します。これは単なる規格化係数を変更するだけで、物理は何も変わりません。念のため。"
   ]
  },
  {
   "cell_type": "code",
   "execution_count": 1,
   "id": "51122b09",
   "metadata": {},
   "outputs": [],
   "source": [
    "from sympy import *"
   ]
  },
  {
   "cell_type": "code",
   "execution_count": 2,
   "id": "ab404ea8",
   "metadata": {},
   "outputs": [
    {
     "data": {
      "text/plain": [
       "(λ1, λ2, λ3, λ4, λ5, λ6, λ7, λ8, λ9, λ10, λ11, λ12, λ13, λ14, λ15, λ16, λ17)"
      ]
     },
     "execution_count": 2,
     "metadata": {},
     "output_type": "execute_result"
    }
   ],
   "source": [
    "var('λ1:18', real=True)"
   ]
  },
  {
   "cell_type": "code",
   "execution_count": 3,
   "id": "15d6def2",
   "metadata": {},
   "outputs": [],
   "source": [
    "e=Symbol('epsilon', real=True)"
   ]
  },
  {
   "cell_type": "markdown",
   "id": "86406ec1-4c9e-4b4d-8b78-bfe1484d7081",
   "metadata": {},
   "source": [
    "Gell-Mann行列を入力します。文献に従い、正規化の定数は$2$とします。$\\hat \\lambda_8$には、$\\frac{1}{\\sqrt{3}}$という定数がかかります。"
   ]
  },
  {
   "cell_type": "code",
   "execution_count": 4,
   "id": "258c8690",
   "metadata": {},
   "outputs": [
    {
     "data": {
      "text/latex": [
       "$\\displaystyle \\left[\\begin{matrix}\\frac{\\sqrt{3}}{3} & 0 & 0\\\\0 & \\frac{\\sqrt{3}}{3} & 0\\\\0 & 0 & - \\frac{2 \\sqrt{3}}{3}\\end{matrix}\\right]$"
      ],
      "text/plain": [
       "Matrix([\n",
       "[sqrt(3)/3,         0,            0],\n",
       "[        0, sqrt(3)/3,            0],\n",
       "[        0,         0, -2*sqrt(3)/3]])"
      ]
     },
     "execution_count": 4,
     "metadata": {},
     "output_type": "execute_result"
    }
   ],
   "source": [
    "_λ1=Matrix([[0,1,0],[1,0,0],[0,0,0]])\n",
    "_λ2=Matrix([[0,-I,0],[I,0,0],[0,0,0]])\n",
    "_λ3=Matrix([[1,0,0],[0,-1,0],[0,0,0]])\n",
    "_λ4=Matrix([[0,0,1],[0,0,0],[1,0,0]])\n",
    "_λ5=Matrix([[0,0,-I],[0,0,0],[I,0,0]])\n",
    "_λ6=Matrix([[0,0,0],[0,0,1],[0,1,0]])\n",
    "_λ7=Matrix([[0,0,0],[0,0,-I],[0,I,0]])\n",
    "_λ8=1/sqrt(3)*Matrix([[1,0,0],[0,1,0],[0,0,-2]])\n",
    "_λ8"
   ]
  },
  {
   "cell_type": "code",
   "execution_count": 5,
   "id": "2eea2e42",
   "metadata": {},
   "outputs": [
    {
     "data": {
      "text/latex": [
       "$\\displaystyle 2$"
      ],
      "text/plain": [
       "2"
      ]
     },
     "execution_count": 5,
     "metadata": {},
     "output_type": "execute_result"
    }
   ],
   "source": [
    "(_λ8*_λ8).trace()"
   ]
  },
  {
   "cell_type": "markdown",
   "id": "5ccd4e78-a385-41b3-b99e-a71a81a34cbc",
   "metadata": {},
   "source": [
    "密度行列$\\rho = \\frac{1}{3}\\hat I + \\frac{1}{2}(\\hat \\lambda_1 \\lambda_1+ \\hat \\lambda_2 \\lambda_2 + \\hat \\lambda_3 \\lambda_3+ \\hat \\lambda_4 \\lambda4 + \\hat \\lambda_5 \\lambda_5+ \\hat \\lambda_6 \\lambda_6+ \\hat \\lambda_7 \\lambda_7+ \\hat \\lambda_8 \\lambda_8)$ を代入します"
   ]
  },
  {
   "cell_type": "code",
   "execution_count": 6,
   "id": "95589b78",
   "metadata": {},
   "outputs": [
    {
     "data": {
      "text/latex": [
       "$\\displaystyle \\left[\\begin{matrix}\\frac{λ_{3}}{2} + \\frac{\\sqrt{3} λ_{8}}{6} + \\frac{1}{3} & \\frac{λ_{1}}{2} - \\frac{i λ_{2}}{2} & \\frac{λ_{4}}{2} - \\frac{i λ_{5}}{2}\\\\\\frac{λ_{1}}{2} + \\frac{i λ_{2}}{2} & - \\frac{λ_{3}}{2} + \\frac{\\sqrt{3} λ_{8}}{6} + \\frac{1}{3} & \\frac{λ_{6}}{2} - \\frac{i λ_{7}}{2}\\\\\\frac{λ_{4}}{2} + \\frac{i λ_{5}}{2} & \\frac{λ_{6}}{2} + \\frac{i λ_{7}}{2} & - \\frac{\\sqrt{3} λ_{8}}{3} + \\frac{1}{3}\\end{matrix}\\right]$"
      ],
      "text/plain": [
       "Matrix([\n",
       "[λ3/2 + sqrt(3)*λ8/6 + 1/3,              λ1/2 - I*λ2/2,       λ4/2 - I*λ5/2],\n",
       "[            λ1/2 + I*λ2/2, -λ3/2 + sqrt(3)*λ8/6 + 1/3,       λ6/2 - I*λ7/2],\n",
       "[            λ4/2 + I*λ5/2,              λ6/2 + I*λ7/2, -sqrt(3)*λ8/3 + 1/3]])"
      ]
     },
     "execution_count": 6,
     "metadata": {},
     "output_type": "execute_result"
    }
   ],
   "source": [
    "ρ3= Rational(1,3)*eye(3) + Rational(1,2)*(_λ1*λ1 + _λ2*λ2 + _λ3*λ3 + _λ4*λ4 + _λ5*λ5 + _λ6*λ6 + _λ7*λ7 + _λ8*λ8)\n",
    "ρ3"
   ]
  },
  {
   "cell_type": "code",
   "execution_count": 7,
   "id": "aede14e6",
   "metadata": {},
   "outputs": [
    {
     "data": {
      "text/latex": [
       "$\\displaystyle 1$"
      ],
      "text/plain": [
       "1"
      ]
     },
     "execution_count": 7,
     "metadata": {},
     "output_type": "execute_result"
    }
   ],
   "source": [
    "ρ3.trace()"
   ]
  },
  {
   "cell_type": "markdown",
   "id": "ce4b10bf-8198-4f86-9f84-d49e796c7c9e",
   "metadata": {},
   "source": [
    "まずは、手始めに$\\rho$の行列式を求めてみましょう。"
   ]
  },
  {
   "cell_type": "code",
   "execution_count": 8,
   "id": "9d36083a",
   "metadata": {},
   "outputs": [
    {
     "data": {
      "text/latex": [
       "$\\displaystyle 18 \\sqrt{3} λ_{1}^{2} λ_{8} - 18 λ_{1}^{2} + 54 λ_{1} λ_{4} λ_{6} + 54 λ_{1} λ_{5} λ_{7} + 18 \\sqrt{3} λ_{2}^{2} λ_{8} - 18 λ_{2}^{2} - 54 λ_{2} λ_{4} λ_{7} + 54 λ_{2} λ_{5} λ_{6} + 18 \\sqrt{3} λ_{3}^{2} λ_{8} - 18 λ_{3}^{2} + 27 λ_{3} λ_{4}^{2} + 27 λ_{3} λ_{5}^{2} - 27 λ_{3} λ_{6}^{2} - 27 λ_{3} λ_{7}^{2} - 9 \\sqrt{3} λ_{4}^{2} λ_{8} - 18 λ_{4}^{2} - 9 \\sqrt{3} λ_{5}^{2} λ_{8} - 18 λ_{5}^{2} - 9 \\sqrt{3} λ_{6}^{2} λ_{8} - 18 λ_{6}^{2} - 9 \\sqrt{3} λ_{7}^{2} λ_{8} - 18 λ_{7}^{2} - 6 \\sqrt{3} λ_{8}^{3} - 18 λ_{8}^{2} + 8$"
      ],
      "text/plain": [
       "18*sqrt(3)*λ1**2*λ8 - 18*λ1**2 + 54*λ1*λ4*λ6 + 54*λ1*λ5*λ7 + 18*sqrt(3)*λ2**2*λ8 - 18*λ2**2 - 54*λ2*λ4*λ7 + 54*λ2*λ5*λ6 + 18*sqrt(3)*λ3**2*λ8 - 18*λ3**2 + 27*λ3*λ4**2 + 27*λ3*λ5**2 - 27*λ3*λ6**2 - 27*λ3*λ7**2 - 9*sqrt(3)*λ4**2*λ8 - 18*λ4**2 - 9*sqrt(3)*λ5**2*λ8 - 18*λ5**2 - 9*sqrt(3)*λ6**2*λ8 - 18*λ6**2 - 9*sqrt(3)*λ7**2*λ8 - 18*λ7**2 - 6*sqrt(3)*λ8**3 - 18*λ8**2 + 8"
      ]
     },
     "execution_count": 8,
     "metadata": {},
     "output_type": "execute_result"
    }
   ],
   "source": [
    "ρ3.det()*54*4\n",
    "ρ3_det=ρ3.det()*54*4\n",
    "ρ3_det"
   ]
  },
  {
   "cell_type": "markdown",
   "id": "37ec12a1-172c-4e57-93c6-060686e52fc5",
   "metadata": {},
   "source": [
    "上式はゼロ以上です(必要ないですが、216を掛けました。比較しやすくするためです)。以下に、文献の(31)式を引用しました。"
   ]
  },
  {
   "attachments": {
    "4f9b9fab-457f-4311-8993-97d130c6754b.png": {
     "image/png": "[encoded data removed]"
    }
   },
   "cell_type": "markdown",
   "id": "372a0db1-b2f4-40be-8a65-4f68c1ec0043",
   "metadata": {},
   "source": [
    "![スクリーンショット 2022-01-10 131248.png](attachment:4f9b9fab-457f-4311-8993-97d130c6754b.png)"
   ]
  },
  {
   "cell_type": "markdown",
   "id": "9ad8694e-658f-4b1c-88a2-1966d112a6f7",
   "metadata": {},
   "source": [
    "これらを比較すると、(i) 式全体の符号が違います。(ii) $-9 \\sqrt{3}\\left\\{2\\left(\\lambda_{1}^{2}+\\lambda_{2}^{2}+\\lambda_{3}^{2}\\right)-\\left(\\lambda_{4}^{2}+\\lambda_{5}^{2}+\\lambda_{6}^{2}+\\lambda_{7}^{2}\\right)\\right \\}$ ではなく、$-9 \\sqrt{3}\\left\\{2\\left(\\lambda_{1}^{2}+\\lambda_{2}^{2}+\\lambda_{3}^{2}\\right)-\\lambda_8\\left(\\lambda_{4}^{2}+\\lambda_{5}^{2}+\\lambda_{6}^{2}+\\lambda_{7}^{2}\\right)\\right\\}$と$\\lambda_8$が入ってきてます。おそらく論文のミスでしょう。"
   ]
  },
  {
   "cell_type": "markdown",
   "id": "97cffca0-a719-475d-af07-f1b82c66fe4f",
   "metadata": {},
   "source": [
    "論文では条件式がこれで終わってます。我々の場合はこれだと不十分で、主行列式を調べつくす必要があります。おそらく、独立な不等式ではなく、徒労に終わると思われますが、調べる必要はあります。まずは、$\\rho + \\varepsilon I$を求めてみます。"
   ]
  },
  {
   "cell_type": "code",
   "execution_count": 9,
   "id": "db818feb",
   "metadata": {},
   "outputs": [
    {
     "data": {
      "text/latex": [
       "$\\displaystyle \\left[\\begin{matrix}\\epsilon + \\frac{λ_{3}}{2} + \\frac{\\sqrt{3} λ_{8}}{6} + \\frac{1}{3} & \\frac{λ_{1}}{2} - \\frac{i λ_{2}}{2} & \\frac{λ_{4}}{2} - \\frac{i λ_{5}}{2}\\\\\\frac{λ_{1}}{2} + \\frac{i λ_{2}}{2} & \\epsilon - \\frac{λ_{3}}{2} + \\frac{\\sqrt{3} λ_{8}}{6} + \\frac{1}{3} & \\frac{λ_{6}}{2} - \\frac{i λ_{7}}{2}\\\\\\frac{λ_{4}}{2} + \\frac{i λ_{5}}{2} & \\frac{λ_{6}}{2} + \\frac{i λ_{7}}{2} & \\epsilon - \\frac{\\sqrt{3} λ_{8}}{3} + \\frac{1}{3}\\end{matrix}\\right]$"
      ],
      "text/plain": [
       "Matrix([\n",
       "[epsilon + λ3/2 + sqrt(3)*λ8/6 + 1/3,                       λ1/2 - I*λ2/2,                λ4/2 - I*λ5/2],\n",
       "[                      λ1/2 + I*λ2/2, epsilon - λ3/2 + sqrt(3)*λ8/6 + 1/3,                λ6/2 - I*λ7/2],\n",
       "[                      λ4/2 + I*λ5/2,                       λ6/2 + I*λ7/2, epsilon - sqrt(3)*λ8/3 + 1/3]])"
      ]
     },
     "execution_count": 9,
     "metadata": {},
     "output_type": "execute_result"
    }
   ],
   "source": [
    "ρ3_e= Rational(1,3)*eye(3) + Rational(1,2)*(_λ1*λ1 + _λ2*λ2 + _λ3*λ3 + _λ4*λ4 + _λ5*λ5 + _λ6*λ6 + _λ7*λ7 + _λ8*λ8) + eye(3)*e\n",
    "ρ3_e"
   ]
  },
  {
   "cell_type": "markdown",
   "id": "5db53228-9570-4729-be6e-230f5b90c426",
   "metadata": {},
   "source": [
    "見やすくするために、216をかけてみました。"
   ]
  },
  {
   "cell_type": "code",
   "execution_count": 10,
   "id": "8b714830-0057-41b6-903c-eff50f7ed0d5",
   "metadata": {},
   "outputs": [
    {
     "data": {
      "text/latex": [
       "$\\displaystyle 216 \\epsilon^{3} + 216 \\epsilon^{2} + \\epsilon \\left(- 54 λ_{1}^{2} - 54 λ_{2}^{2} - 54 λ_{3}^{2} - 54 λ_{4}^{2} - 54 λ_{5}^{2} - 54 λ_{6}^{2} - 54 λ_{7}^{2} - 54 λ_{8}^{2} + 72\\right) + 18 \\sqrt{3} λ_{1}^{2} λ_{8} - 18 λ_{1}^{2} + 54 λ_{1} λ_{4} λ_{6} + 54 λ_{1} λ_{5} λ_{7} + 18 \\sqrt{3} λ_{2}^{2} λ_{8} - 18 λ_{2}^{2} - 54 λ_{2} λ_{4} λ_{7} + 54 λ_{2} λ_{5} λ_{6} + 18 \\sqrt{3} λ_{3}^{2} λ_{8} - 18 λ_{3}^{2} + 27 λ_{3} λ_{4}^{2} + 27 λ_{3} λ_{5}^{2} - 27 λ_{3} λ_{6}^{2} - 27 λ_{3} λ_{7}^{2} - 9 \\sqrt{3} λ_{4}^{2} λ_{8} - 18 λ_{4}^{2} - 9 \\sqrt{3} λ_{5}^{2} λ_{8} - 18 λ_{5}^{2} - 9 \\sqrt{3} λ_{6}^{2} λ_{8} - 18 λ_{6}^{2} - 9 \\sqrt{3} λ_{7}^{2} λ_{8} - 18 λ_{7}^{2} - 6 \\sqrt{3} λ_{8}^{3} - 18 λ_{8}^{2} + 8$"
      ],
      "text/plain": [
       "216*epsilon**3 + 216*epsilon**2 + epsilon*(-54*λ1**2 - 54*λ2**2 - 54*λ3**2 - 54*λ4**2 - 54*λ5**2 - 54*λ6**2 - 54*λ7**2 - 54*λ8**2 + 72) + 18*sqrt(3)*λ1**2*λ8 - 18*λ1**2 + 54*λ1*λ4*λ6 + 54*λ1*λ5*λ7 + 18*sqrt(3)*λ2**2*λ8 - 18*λ2**2 - 54*λ2*λ4*λ7 + 54*λ2*λ5*λ6 + 18*sqrt(3)*λ3**2*λ8 - 18*λ3**2 + 27*λ3*λ4**2 + 27*λ3*λ5**2 - 27*λ3*λ6**2 - 27*λ3*λ7**2 - 9*sqrt(3)*λ4**2*λ8 - 18*λ4**2 - 9*sqrt(3)*λ5**2*λ8 - 18*λ5**2 - 9*sqrt(3)*λ6**2*λ8 - 18*λ6**2 - 9*sqrt(3)*λ7**2*λ8 - 18*λ7**2 - 6*sqrt(3)*λ8**3 - 18*λ8**2 + 8"
      ]
     },
     "execution_count": 10,
     "metadata": {},
     "output_type": "execute_result"
    }
   ],
   "source": [
    "collect(ρ3_e.det()*54*4,e)"
   ]
  },
  {
   "cell_type": "markdown",
   "id": "521a4379-ce84-41ae-a395-45e13e257895",
   "metadata": {},
   "source": [
    "[8]のセルで求めた式がゼロならば、$\\left(- λ_{1}^{2} - λ_{2}^{2} - λ_{3}^{2} - λ_{4}^{2} - λ_{5}^{2} - λ_{6}^{2} - λ_{7}^{2} - λ_{8}^{2} + \\frac{4}{3}\\right) > 0$ である必要があります。ただこれは独立ではなさそうです。この式を見やすくすると、\n",
    "$ λ_{1}^{2} + λ_{2}^{2} + λ_{3}^{2} + λ_{4}^{2} + λ_{5}^{2} + λ_{6}^{2} + λ_{7}^{2} + λ_{8}^{2} < \\frac{4}{3}$となり、半径$\\frac{2}{\\sqrt{3}}$の球の中にあると見れます。これはブロッホ球の拡張のような式です。"
   ]
  },
  {
   "cell_type": "code",
   "execution_count": 11,
   "id": "0bfe2abd",
   "metadata": {},
   "outputs": [
    {
     "data": {
      "text/latex": [
       "$\\displaystyle \\left[\\begin{matrix}\\frac{λ_{3}}{2} + \\frac{\\sqrt{3} λ_{8}}{6} + \\frac{1}{3} & \\frac{λ_{1}}{2} - \\frac{i λ_{2}}{2}\\\\\\frac{λ_{1}}{2} + \\frac{i λ_{2}}{2} & - \\frac{λ_{3}}{2} + \\frac{\\sqrt{3} λ_{8}}{6} + \\frac{1}{3}\\end{matrix}\\right]$"
      ],
      "text/plain": [
       "Matrix([\n",
       "[λ3/2 + sqrt(3)*λ8/6 + 1/3,              λ1/2 - I*λ2/2],\n",
       "[            λ1/2 + I*λ2/2, -λ3/2 + sqrt(3)*λ8/6 + 1/3]])"
      ]
     },
     "execution_count": 11,
     "metadata": {},
     "output_type": "execute_result"
    }
   ],
   "source": [
    "ρ3_2=ρ3\n",
    "ρ3_2.col_del(2)\n",
    "ρ3_2.row_del(2)\n",
    "ρ3_2"
   ]
  },
  {
   "cell_type": "code",
   "execution_count": 12,
   "id": "7407b356-bfa3-45e7-a436-c7dfc15768a7",
   "metadata": {},
   "outputs": [],
   "source": [
    "ρ3_2_e = ρ3_2 + eye(2)*e"
   ]
  },
  {
   "cell_type": "code",
   "execution_count": 13,
   "id": "f9079248",
   "metadata": {},
   "outputs": [
    {
     "data": {
      "text/latex": [
       "$\\displaystyle \\epsilon^{2} + \\frac{\\sqrt{3} \\epsilon λ_{8}}{3} + \\frac{2 \\epsilon}{3} - \\frac{λ_{1}^{2}}{4} - \\frac{λ_{2}^{2}}{4} - \\frac{λ_{3}^{2}}{4} + \\frac{λ_{8}^{2}}{12} + \\frac{\\sqrt{3} λ_{8}}{9} + \\frac{1}{9}$"
      ],
      "text/plain": [
       "epsilon**2 + sqrt(3)*epsilon*λ8/3 + 2*epsilon/3 - λ1**2/4 - λ2**2/4 - λ3**2/4 + λ8**2/12 + sqrt(3)*λ8/9 + 1/9"
      ]
     },
     "execution_count": 13,
     "metadata": {},
     "output_type": "execute_result"
    }
   ],
   "source": [
    "ρ3_2_e.det()"
   ]
  },
  {
   "cell_type": "code",
   "execution_count": 14,
   "id": "16eb995e-2867-4148-b24c-9e2245cab302",
   "metadata": {},
   "outputs": [
    {
     "data": {
      "text/latex": [
       "$\\displaystyle 36 \\epsilon^{2} + \\epsilon \\left(12 \\sqrt{3} λ_{8} + 24\\right) - 9 λ_{1}^{2} - 9 λ_{2}^{2} - 9 λ_{3}^{2} + 3 λ_{8}^{2} + 4 \\sqrt{3} λ_{8} + 4$"
      ],
      "text/plain": [
       "36*epsilon**2 + epsilon*(12*sqrt(3)*λ8 + 24) - 9*λ1**2 - 9*λ2**2 - 9*λ3**2 + 3*λ8**2 + 4*sqrt(3)*λ8 + 4"
      ]
     },
     "execution_count": 14,
     "metadata": {},
     "output_type": "execute_result"
    }
   ],
   "source": [
    "collect(ρ3_2_e.det()*4*9,e)"
   ]
  },
  {
   "cell_type": "markdown",
   "id": "a3dec98c-114f-4872-9612-305b7e519777",
   "metadata": {},
   "source": [
    "上の式ですべての$\\varepsilon$で成立させるには、$-9 \\lambda_{1}^{2}-9 \\lambda_{2}^{2}-9 \\lambda_{3}^{2}+3 \\lambda_{8}^{2}+4 \\sqrt{3} \\lambda_{8}+4 > 0$が必要、または$-9 \\lambda_{1}^{2}-9 \\lambda_{2}^{2}-9 \\lambda_{3}^{2}+3 \\lambda_{8}^{2}+4 \\sqrt{3} \\lambda_{8}+4 =0$のときは、$12\\sqrt{3}\\lambda_8 + 24 >0$が必要となります。"
   ]
  },
  {
   "cell_type": "markdown",
   "id": "e24e5766-e188-4910-b34f-532d0af521c8",
   "metadata": {},
   "source": [
    "これらが独立であるかは簡単にはわかりません。実際、一番初めに求めた式の$\\lambda_4, \\lambda_5, \\lambda_6, \\lambda_7$に$0$を代入してみると、"
   ]
  },
  {
   "cell_type": "code",
   "execution_count": 15,
   "id": "6ae9a3dd-a84d-4768-a3b9-210bbc02591f",
   "metadata": {},
   "outputs": [
    {
     "data": {
      "text/latex": [
       "$\\displaystyle 9 \\sqrt{3} λ_{1}^{2} λ_{8} - 9 λ_{1}^{2} + 9 \\sqrt{3} λ_{2}^{2} λ_{8} - 9 λ_{2}^{2} + 9 \\sqrt{3} λ_{3}^{2} λ_{8} - 9 λ_{3}^{2} - 3 \\sqrt{3} λ_{8}^{3} - 9 λ_{8}^{2} + 4$"
      ],
      "text/plain": [
       "9*sqrt(3)*λ1**2*λ8 - 9*λ1**2 + 9*sqrt(3)*λ2**2*λ8 - 9*λ2**2 + 9*sqrt(3)*λ3**2*λ8 - 9*λ3**2 - 3*sqrt(3)*λ8**3 - 9*λ8**2 + 4"
      ]
     },
     "execution_count": 15,
     "metadata": {},
     "output_type": "execute_result"
    }
   ],
   "source": [
    "ρ3_det.subs(λ4,0).subs(λ5,0).subs(λ6,0).subs(λ7,0)/2"
   ]
  },
  {
   "cell_type": "markdown",
   "id": "4df36787-456f-462a-b29e-be048f1a5ac3",
   "metadata": {},
   "source": [
    "となり、かなり似た式が出てきて、多分独立ではなさそうな雰囲気ですが、確固としたことは言えません。"
   ]
  },
  {
   "cell_type": "markdown",
   "id": "24c72a0b-61c4-4da0-9d31-d95a7f571cf1",
   "metadata": {},
   "source": [
    "最後の首座行列式は一つの不等式です。"
   ]
  },
  {
   "cell_type": "code",
   "execution_count": 16,
   "id": "9a2edaaf-c82a-474d-a745-e87626b9fcd9",
   "metadata": {},
   "outputs": [
    {
     "data": {
      "text/latex": [
       "$\\displaystyle \\left[\\begin{matrix}\\frac{λ_{3}}{2} + \\frac{\\sqrt{3} λ_{8}}{6} + \\frac{1}{3}\\end{matrix}\\right]$"
      ],
      "text/plain": [
       "Matrix([[λ3/2 + sqrt(3)*λ8/6 + 1/3]])"
      ]
     },
     "execution_count": 16,
     "metadata": {},
     "output_type": "execute_result"
    }
   ],
   "source": [
    "ρ3_2\n",
    "ρ3_2.col_del(1)\n",
    "ρ3_2.row_del(1)\n",
    "ρ3_2"
   ]
  },
  {
   "cell_type": "code",
   "execution_count": 17,
   "id": "74e52e93-f5a3-476c-bc72-45a8f201dad6",
   "metadata": {},
   "outputs": [
    {
     "data": {
      "text/latex": [
       "$\\displaystyle \\frac{λ_{3}}{2} + \\frac{\\sqrt{3} λ_{8}}{6} + \\frac{1}{3}$"
      ],
      "text/plain": [
       "λ3/2 + sqrt(3)*λ8/6 + 1/3"
      ]
     },
     "execution_count": 17,
     "metadata": {},
     "output_type": "execute_result"
    }
   ],
   "source": [
    "ρ3_2.det()"
   ]
  },
  {
   "cell_type": "markdown",
   "id": "7926b4ae-a1e5-4060-8115-769234cf3a3b",
   "metadata": {},
   "source": [
    "これも0以上である必要があります。ただ、これも、独立ではなさそうな気がしますが、わかりません。"
   ]
  },
  {
   "cell_type": "markdown",
   "id": "c0f963a3-4d3e-4d5e-8ee8-211f5404e62b",
   "metadata": {},
   "source": [
    "これは学術論文ではないので、とりあえず簡単にここまでにしておきます。いずれにせよ、わかるのは、2準位系のときの単なる球ではなく、3準位系での密度行列が満たすべき条件、特に半正定値条件は複雑な$\\lambda$たちの多項式の不等式になるということです。さらに、求めた不等式たちは正しいのですが、独立かどうかはわからないということです。おそらく独立ではないと思います。いずれにせよ、どの不等式も満たす必要はありますし、満たした暁にはその密度行列は、3準位系の密度行列であるということではあります。"
   ]
  }
 ],
 "metadata": {
  "kernelspec": {
   "display_name": "Python 3",
   "language": "python",
   "name": "python3"
  },
  "language_info": {
   "codemirror_mode": {
    "name": "ipython",
    "version": 3
   },
   "file_extension": ".py",
   "mimetype": "text/x-python",
   "name": "python",
   "nbconvert_exporter": "python",
   "pygments_lexer": "ipython3",
   "version": "3.8.8"
  }
 },
 "nbformat": 4,
 "nbformat_minor": 5
}
