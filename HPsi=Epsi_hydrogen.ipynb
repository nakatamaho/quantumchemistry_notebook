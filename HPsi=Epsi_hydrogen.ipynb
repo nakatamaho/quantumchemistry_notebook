{
 "cells": [
  {
   "cell_type": "markdown",
   "metadata": {},
   "source": [
    "水素原子の2p1波動関数$\\Psi (r,\\theta,\\phi) = \\frac{r}{a} \\exp (-\\frac{r}{2a}) \\exp (i\\phi)\\sin(\\theta)$を使って、$H\\Psi = E \\Psi$ から $H\\Psi / \\Psi = E$ を確認する"
   ]
  },
  {
   "cell_type": "code",
   "execution_count": 1,
   "metadata": {},
   "outputs": [],
   "source": [
    "from sympy import *"
   ]
  },
  {
   "cell_type": "code",
   "execution_count": 2,
   "metadata": {},
   "outputs": [],
   "source": [
    "init_printing()"
   ]
  },
  {
   "cell_type": "markdown",
   "metadata": {},
   "source": [
    "極座標の定義"
   ]
  },
  {
   "cell_type": "code",
   "execution_count": 3,
   "metadata": {},
   "outputs": [],
   "source": [
    "r = Symbol('r',real=True, positive=True)\n",
    "θ = Symbol('theta',real=True, positive=True,domain=Interval(0,pi))\n",
    "ϕ = Symbol('\\phi',real=True, positive=True,domain=Interval(0,2*pi))"
   ]
  },
  {
   "cell_type": "code",
   "execution_count": 4,
   "metadata": {},
   "outputs": [],
   "source": [
    "x = r * sin(θ) * cos(ϕ)\n",
    "y = r * sin(θ) * sin(ϕ)\n",
    "z = r * cos(θ)"
   ]
  },
  {
   "cell_type": "code",
   "execution_count": 5,
   "metadata": {},
   "outputs": [
    {
     "data": {
      "image/png": "[encoded data removed]",
      "text/latex": [
       "$$\\left [ r \\sin{\\left (\\theta \\right )} \\cos{\\left (\\phi \\right )}, \\quad r \\sin{\\left (\\phi \\right )} \\sin{\\left (\\theta \\right )}, \\quad r \\cos{\\left (\\theta \\right )}\\right ]$$"
      ],
      "text/plain": [
       "[r⋅sin(θ)⋅cos(\\phi), r⋅sin(\\phi)⋅sin(θ), r⋅cos(θ)]"
      ]
     },
     "execution_count": 5,
     "metadata": {},
     "output_type": "execute_result"
    }
   ],
   "source": [
    "xyz = [x, y, z]\n",
    "xyz"
   ]
  },
  {
   "cell_type": "code",
   "execution_count": 6,
   "metadata": {},
   "outputs": [
    {
     "data": {
      "image/png": "[encoded data removed]",
      "text/latex": [
       "$$\\left [ r, \\quad \\theta, \\quad \\phi\\right ]$$"
      ],
      "text/plain": [
       "[r, θ, \\phi]"
      ]
     },
     "execution_count": 6,
     "metadata": {},
     "output_type": "execute_result"
    }
   ],
   "source": [
    "rtp = [r, θ, ϕ]\n",
    "rtp"
   ]
  },
  {
   "cell_type": "code",
   "execution_count": 7,
   "metadata": {},
   "outputs": [],
   "source": [
    "a = Symbol('a')"
   ]
  },
  {
   "cell_type": "markdown",
   "metadata": {},
   "source": [
    "水素原子の2p1波動関数$\\psi$を入れてやる"
   ]
  },
  {
   "cell_type": "code",
   "execution_count": 8,
   "metadata": {},
   "outputs": [
    {
     "data": {
      "image/png": "[encoded data removed]",
      "text/latex": [
       "$$\\frac{r}{a} e^{i \\phi} e^{- \\frac{r}{2 a}} \\sin{\\left (\\theta \\right )}$$"
      ],
      "text/plain": [
       "           -r        \n",
       "           ───       \n",
       "   ⅈ⋅\\phi  2⋅a       \n",
       "r⋅ℯ      ⋅ℯ   ⋅sin(θ)\n",
       "─────────────────────\n",
       "          a          "
      ]
     },
     "execution_count": 8,
     "metadata": {},
     "output_type": "execute_result"
    }
   ],
   "source": [
    "ψ =r/a * exp (-r/(2*a)) * exp (I*ϕ)* sin(θ)\n",
    "ψ"
   ]
  },
  {
   "cell_type": "markdown",
   "metadata": {},
   "source": [
    "まず、クーロンポテンシャル部分 $U \\psi $ を先に計算する"
   ]
  },
  {
   "cell_type": "code",
   "execution_count": 9,
   "metadata": {},
   "outputs": [
    {
     "data": {
      "image/png": "[encoded data removed]",
      "text/latex": [
       "$$\\frac{e^{i \\phi}}{a^{2}} e^{- \\frac{r}{2 a}} \\sin{\\left (\\theta \\right )}$$"
      ],
      "text/plain": [
       "         -r        \n",
       "         ───       \n",
       " ⅈ⋅\\phi  2⋅a       \n",
       "ℯ      ⋅ℯ   ⋅sin(θ)\n",
       "───────────────────\n",
       "          2        \n",
       "         a         "
      ]
     },
     "execution_count": 9,
     "metadata": {},
     "output_type": "execute_result"
    }
   ],
   "source": [
    "Uψ = (1/r) * (1/a) * ψ\n",
    "Uψ"
   ]
  },
  {
   "cell_type": "markdown",
   "metadata": {},
   "source": [
    "次に、ラプラシアンの計算を行う。あるスカラ関数$\\psi$に対するラプラシアンは$\\nabla^2\\psi$であり、直交座標系ではdiv grad $\\psi$ と等しい。これを球面座標系に変換する必要がある。球面座標系から直交座標系へのヤコビアン$J=\\frac{\\partial (r, \\theta, \\phi)}{\\partial (x, y, z)}$を使えば、"
   ]
  },
  {
   "cell_type": "markdown",
   "metadata": {},
   "source": [
    "div grad $\\psi = (\\nabla \\cdot J) (J^{-1}  \\nabla \\psi)$ と書ける(ちょっとした手間で示せる)。まずヤコビアン$J$を求めよう"
   ]
  },
  {
   "cell_type": "code",
   "execution_count": 10,
   "metadata": {},
   "outputs": [
    {
     "data": {
      "image/png": "[encoded data removed]",
      "text/latex": [
       "$$\\left[\\begin{matrix}\\frac{\\partial}{\\partial r}\\left(r \\sin{\\left (\\theta \\right )} \\cos{\\left (\\phi \\right )}\\right) & \\frac{\\partial}{\\partial r}\\left(r \\sin{\\left (\\phi \\right )} \\sin{\\left (\\theta \\right )}\\right) & \\frac{\\partial}{\\partial r}\\left(r \\cos{\\left (\\theta \\right )}\\right)\\\\\\frac{\\partial}{\\partial \\theta}\\left(r \\sin{\\left (\\theta \\right )} \\cos{\\left (\\phi \\right )}\\right) & \\frac{\\partial}{\\partial \\theta}\\left(r \\sin{\\left (\\phi \\right )} \\sin{\\left (\\theta \\right )}\\right) & \\frac{\\partial}{\\partial \\theta}\\left(r \\cos{\\left (\\theta \\right )}\\right)\\\\\\frac{\\partial}{\\partial \\phi}\\left(r \\sin{\\left (\\theta \\right )} \\cos{\\left (\\phi \\right )}\\right) & \\frac{\\partial}{\\partial \\phi}\\left(r \\sin{\\left (\\phi \\right )} \\sin{\\left (\\theta \\right )}\\right) & \\frac{\\partial}{\\partial \\phi}\\left(r \\cos{\\left (\\theta \\right )}\\right)\\end{matrix}\\right]$$"
      ],
      "text/plain": [
       "⎡ ∂                          ∂                          ∂             ⎤\n",
       "⎢ ──(r⋅sin(θ)⋅cos(\\phi))     ──(r⋅sin(\\phi)⋅sin(θ))     ──(r⋅cos(θ))  ⎥\n",
       "⎢ ∂r                         ∂r                         ∂r            ⎥\n",
       "⎢                                                                     ⎥\n",
       "⎢ ∂                          ∂                          ∂             ⎥\n",
       "⎢ ──(r⋅sin(θ)⋅cos(\\phi))     ──(r⋅sin(\\phi)⋅sin(θ))     ──(r⋅cos(θ))  ⎥\n",
       "⎢ ∂θ                         ∂θ                         ∂θ            ⎥\n",
       "⎢                                                                     ⎥\n",
       "⎢  ∂                          ∂                          ∂            ⎥\n",
       "⎢─────(r⋅sin(θ)⋅cos(\\phi))  ─────(r⋅sin(\\phi)⋅sin(θ))  ─────(r⋅cos(θ))⎥\n",
       "⎣∂\\phi                      ∂\\phi                      ∂\\phi          ⎦"
      ]
     },
     "execution_count": 10,
     "metadata": {},
     "output_type": "execute_result"
    }
   ],
   "source": [
    "J = Matrix(3 , 3 , [Derivative(c1 , c2) for c2 in rtp for c1 in xyz])\n",
    "J"
   ]
  },
  {
   "cell_type": "code",
   "execution_count": 11,
   "metadata": {},
   "outputs": [
    {
     "data": {
      "image/png": "[encoded data removed]",
      "text/latex": [
       "$$\\left[\\begin{matrix}\\sin{\\left (\\theta \\right )} \\cos{\\left (\\phi \\right )} & \\sin{\\left (\\phi \\right )} \\sin{\\left (\\theta \\right )} & \\cos{\\left (\\theta \\right )}\\\\r \\cos{\\left (\\phi \\right )} \\cos{\\left (\\theta \\right )} & r \\sin{\\left (\\phi \\right )} \\cos{\\left (\\theta \\right )} & - r \\sin{\\left (\\theta \\right )}\\\\- r \\sin{\\left (\\phi \\right )} \\sin{\\left (\\theta \\right )} & r \\sin{\\left (\\theta \\right )} \\cos{\\left (\\phi \\right )} & 0\\end{matrix}\\right]$$"
      ],
      "text/plain": [
       "⎡ sin(θ)⋅cos(\\phi)     sin(\\phi)⋅sin(θ)    cos(θ)  ⎤\n",
       "⎢                                                  ⎥\n",
       "⎢r⋅cos(\\phi)⋅cos(θ)   r⋅sin(\\phi)⋅cos(θ)  -r⋅sin(θ)⎥\n",
       "⎢                                                  ⎥\n",
       "⎣-r⋅sin(\\phi)⋅sin(θ)  r⋅sin(θ)⋅cos(\\phi)      0    ⎦"
      ]
     },
     "execution_count": 11,
     "metadata": {},
     "output_type": "execute_result"
    }
   ],
   "source": [
    "J = J.doit()\n",
    "J"
   ]
  },
  {
   "cell_type": "markdown",
   "metadata": {},
   "source": [
    "$J$の逆行列も求めておく。"
   ]
  },
  {
   "cell_type": "code",
   "execution_count": 12,
   "metadata": {},
   "outputs": [
    {
     "data": {
      "image/png": "[encoded data removed]",
      "text/latex": [
       "$$\\left[\\begin{matrix}\\sin{\\left (\\theta \\right )} \\cos{\\left (\\phi \\right )} & \\frac{1}{r} \\cos{\\left (\\phi \\right )} \\cos{\\left (\\theta \\right )} & - \\frac{\\sin{\\left (\\phi \\right )}}{r \\sin{\\left (\\theta \\right )}}\\\\\\sin{\\left (\\phi \\right )} \\sin{\\left (\\theta \\right )} & \\frac{1}{r} \\sin{\\left (\\phi \\right )} \\cos{\\left (\\theta \\right )} & \\frac{\\cos{\\left (\\phi \\right )}}{r \\sin{\\left (\\theta \\right )}}\\\\\\cos{\\left (\\theta \\right )} & - \\frac{1}{r} \\sin{\\left (\\theta \\right )} & 0\\end{matrix}\\right]$$"
      ],
      "text/plain": [
       "⎡                  cos(\\phi)⋅cos(θ)  -sin(\\phi) ⎤\n",
       "⎢sin(θ)⋅cos(\\phi)  ────────────────  ───────────⎥\n",
       "⎢                         r            r⋅sin(θ) ⎥\n",
       "⎢                                               ⎥\n",
       "⎢                  sin(\\phi)⋅cos(θ)   cos(\\phi) ⎥\n",
       "⎢sin(\\phi)⋅sin(θ)  ────────────────   ───────── ⎥\n",
       "⎢                         r            r⋅sin(θ) ⎥\n",
       "⎢                                               ⎥\n",
       "⎢                      -sin(θ)                  ⎥\n",
       "⎢     cos(θ)           ────────           0     ⎥\n",
       "⎣                         r                     ⎦"
      ]
     },
     "execution_count": 12,
     "metadata": {},
     "output_type": "execute_result"
    }
   ],
   "source": [
    "InvJ = simplify(J.inv())\n",
    "InvJ"
   ]
  },
  {
   "cell_type": "markdown",
   "metadata": {},
   "source": [
    "さてラプラシアンを求めよう。div grad $\\psi = (\\nabla \\cdot J) (J^{-1}  \\nabla \\psi)$を順に計算してゆく。まず、$a= \\nabla \\psi$として"
   ]
  },
  {
   "cell_type": "code",
   "execution_count": 13,
   "metadata": {},
   "outputs": [
    {
     "data": {
      "image/png": "[encoded data removed]",
      "text/latex": [
       "$$\\left[\\begin{matrix}\\frac{\\partial}{\\partial r}\\left(\\frac{r}{a} e^{i \\phi} e^{- \\frac{r}{2 a}} \\sin{\\left (\\theta \\right )}\\right)\\\\\\frac{\\partial}{\\partial \\theta}\\left(\\frac{r}{a} e^{i \\phi} e^{- \\frac{r}{2 a}} \\sin{\\left (\\theta \\right )}\\right)\\\\\\frac{\\partial}{\\partial \\phi}\\left(\\frac{r}{a} e^{i \\phi} e^{- \\frac{r}{2 a}} \\sin{\\left (\\theta \\right )}\\right)\\end{matrix}\\right]$$"
      ],
      "text/plain": [
       "⎡   ⎛           -r        ⎞  ⎤\n",
       "⎢   ⎜           ───       ⎟  ⎥\n",
       "⎢   ⎜   ⅈ⋅\\phi  2⋅a       ⎟  ⎥\n",
       "⎢ ∂ ⎜r⋅ℯ      ⋅ℯ   ⋅sin(θ)⎟  ⎥\n",
       "⎢ ──⎜─────────────────────⎟  ⎥\n",
       "⎢ ∂r⎝          a          ⎠  ⎥\n",
       "⎢                            ⎥\n",
       "⎢   ⎛           -r        ⎞  ⎥\n",
       "⎢   ⎜           ───       ⎟  ⎥\n",
       "⎢   ⎜   ⅈ⋅\\phi  2⋅a       ⎟  ⎥\n",
       "⎢ ∂ ⎜r⋅ℯ      ⋅ℯ   ⋅sin(θ)⎟  ⎥\n",
       "⎢ ──⎜─────────────────────⎟  ⎥\n",
       "⎢ ∂θ⎝          a          ⎠  ⎥\n",
       "⎢                            ⎥\n",
       "⎢     ⎛           -r        ⎞⎥\n",
       "⎢     ⎜           ───       ⎟⎥\n",
       "⎢     ⎜   ⅈ⋅\\phi  2⋅a       ⎟⎥\n",
       "⎢  ∂  ⎜r⋅ℯ      ⋅ℯ   ⋅sin(θ)⎟⎥\n",
       "⎢─────⎜─────────────────────⎟⎥\n",
       "⎣∂\\phi⎝          a          ⎠⎦"
      ]
     },
     "execution_count": 13,
     "metadata": {},
     "output_type": "execute_result"
    }
   ],
   "source": [
    "a = Matrix(3 , 1 , [Derivative(ψ , c) for c in rtp])\n",
    "a"
   ]
  },
  {
   "cell_type": "markdown",
   "metadata": {},
   "source": [
    "grad $\\psi = J^{-1} a$ だから"
   ]
  },
  {
   "cell_type": "code",
   "execution_count": 14,
   "metadata": {},
   "outputs": [
    {
     "data": {
      "image/png": "[encoded data removed]",
      "text/latex": [
       "$$\\left[\\begin{matrix}\\sin{\\left (\\theta \\right )} \\cos{\\left (\\phi \\right )} \\frac{\\partial}{\\partial r}\\left(\\frac{r}{a} e^{i \\phi} e^{- \\frac{r}{2 a}} \\sin{\\left (\\theta \\right )}\\right) - \\frac{\\sin{\\left (\\phi \\right )}}{r \\sin{\\left (\\theta \\right )}} \\frac{\\partial}{\\partial \\phi}\\left(\\frac{r}{a} e^{i \\phi} e^{- \\frac{r}{2 a}} \\sin{\\left (\\theta \\right )}\\right) + \\frac{1}{r} \\cos{\\left (\\phi \\right )} \\cos{\\left (\\theta \\right )} \\frac{\\partial}{\\partial \\theta}\\left(\\frac{r}{a} e^{i \\phi} e^{- \\frac{r}{2 a}} \\sin{\\left (\\theta \\right )}\\right)\\\\\\sin{\\left (\\phi \\right )} \\sin{\\left (\\theta \\right )} \\frac{\\partial}{\\partial r}\\left(\\frac{r}{a} e^{i \\phi} e^{- \\frac{r}{2 a}} \\sin{\\left (\\theta \\right )}\\right) + \\frac{1}{r} \\sin{\\left (\\phi \\right )} \\cos{\\left (\\theta \\right )} \\frac{\\partial}{\\partial \\theta}\\left(\\frac{r}{a} e^{i \\phi} e^{- \\frac{r}{2 a}} \\sin{\\left (\\theta \\right )}\\right) + \\frac{\\cos{\\left (\\phi \\right )}}{r \\sin{\\left (\\theta \\right )}} \\frac{\\partial}{\\partial \\phi}\\left(\\frac{r}{a} e^{i \\phi} e^{- \\frac{r}{2 a}} \\sin{\\left (\\theta \\right )}\\right)\\\\\\cos{\\left (\\theta \\right )} \\frac{\\partial}{\\partial r}\\left(\\frac{r}{a} e^{i \\phi} e^{- \\frac{r}{2 a}} \\sin{\\left (\\theta \\right )}\\right) - \\frac{1}{r} \\sin{\\left (\\theta \\right )} \\frac{\\partial}{\\partial \\theta}\\left(\\frac{r}{a} e^{i \\phi} e^{- \\frac{r}{2 a}} \\sin{\\left (\\theta \\right )}\\right)\\end{matrix}\\right]$$"
      ],
      "text/plain": [
       "⎡                                                            ⎛           -r   \n",
       "⎢                                                            ⎜           ───  \n",
       "⎢                   ⎛           -r        ⎞                  ⎜   ⅈ⋅\\phi  2⋅a  \n",
       "⎢                   ⎜           ───       ⎟               ∂  ⎜r⋅ℯ      ⋅ℯ   ⋅s\n",
       "⎢                   ⎜   ⅈ⋅\\phi  2⋅a       ⎟   sin(\\phi)⋅─────⎜────────────────\n",
       "⎢                 ∂ ⎜r⋅ℯ      ⋅ℯ   ⋅sin(θ)⎟             ∂\\phi⎝          a     \n",
       "⎢sin(θ)⋅cos(\\phi)⋅──⎜─────────────────────⎟ - ────────────────────────────────\n",
       "⎢                 ∂r⎝          a          ⎠                  r⋅sin(θ)         \n",
       "⎢                                                                             \n",
       "⎢                                                                ⎛           -\n",
       "⎢                                                                ⎜           ─\n",
       "⎢                   ⎛           -r        ⎞                      ⎜   ⅈ⋅\\phi  2\n",
       "⎢                   ⎜           ───       ⎟                    ∂ ⎜r⋅ℯ      ⋅ℯ \n",
       "⎢                   ⎜   ⅈ⋅\\phi  2⋅a       ⎟   sin(\\phi)⋅cos(θ)⋅──⎜────────────\n",
       "⎢                 ∂ ⎜r⋅ℯ      ⋅ℯ   ⋅sin(θ)⎟                    ∂θ⎝          a \n",
       "⎢sin(\\phi)⋅sin(θ)⋅──⎜─────────────────────⎟ + ────────────────────────────────\n",
       "⎢                 ∂r⎝          a          ⎠                       r           \n",
       "⎢                                                                             \n",
       "⎢                                                                          ⎛  \n",
       "⎢                                                                          ⎜  \n",
       "⎢                                       ⎛           -r        ⎞            ⎜  \n",
       "⎢                                       ⎜           ───       ⎟          ∂ ⎜r⋅\n",
       "⎢                                       ⎜   ⅈ⋅\\phi  2⋅a       ⎟   sin(θ)⋅──⎜──\n",
       "⎢                                     ∂ ⎜r⋅ℯ      ⋅ℯ   ⋅sin(θ)⎟          ∂θ⎝  \n",
       "⎢                              cos(θ)⋅──⎜─────────────────────⎟ - ────────────\n",
       "⎣                                     ∂r⎝          a          ⎠               \n",
       "\n",
       "     ⎞                      ⎛           -r        ⎞⎤\n",
       "     ⎟                      ⎜           ───       ⎟⎥\n",
       "     ⎟                      ⎜   ⅈ⋅\\phi  2⋅a       ⎟⎥\n",
       "in(θ)⎟                    ∂ ⎜r⋅ℯ      ⋅ℯ   ⋅sin(θ)⎟⎥\n",
       "─────⎟   cos(\\phi)⋅cos(θ)⋅──⎜─────────────────────⎟⎥\n",
       "     ⎠                    ∂θ⎝          a          ⎠⎥\n",
       "────── + ──────────────────────────────────────────⎥\n",
       "                             r                     ⎥\n",
       "                                                   ⎥\n",
       "r        ⎞                  ⎛           -r        ⎞⎥\n",
       "──       ⎟                  ⎜           ───       ⎟⎥\n",
       "⋅a       ⎟                  ⎜   ⅈ⋅\\phi  2⋅a       ⎟⎥\n",
       "  ⋅sin(θ)⎟               ∂  ⎜r⋅ℯ      ⋅ℯ   ⋅sin(θ)⎟⎥\n",
       "─────────⎟   cos(\\phi)⋅─────⎜─────────────────────⎟⎥\n",
       "         ⎠             ∂\\phi⎝          a          ⎠⎥\n",
       "────────── + ──────────────────────────────────────⎥\n",
       "                            r⋅sin(θ)               ⎥\n",
       "                                                   ⎥\n",
       "         -r        ⎞                               ⎥\n",
       "         ───       ⎟                               ⎥\n",
       " ⅈ⋅\\phi  2⋅a       ⎟                               ⎥\n",
       "ℯ      ⋅ℯ   ⋅sin(θ)⎟                               ⎥\n",
       "───────────────────⎟                               ⎥\n",
       "        a          ⎠                               ⎥\n",
       "────────────────────                               ⎥\n",
       "   r                                               ⎦"
      ]
     },
     "execution_count": 14,
     "metadata": {},
     "output_type": "execute_result"
    }
   ],
   "source": [
    "gradψ = InvJ*a\n",
    "gradψ"
   ]
  },
  {
   "cell_type": "markdown",
   "metadata": {},
   "source": [
    "さらにgrad $\\psi$のdivを求めると、ラプラシアンが求まる"
   ]
  },
  {
   "cell_type": "code",
   "execution_count": 15,
   "metadata": {},
   "outputs": [
    {
     "data": {
      "image/png": "[encoded data removed]",
      "text/latex": [
       "$$\\left(\\left(- \\frac{e^{i \\phi}}{a^{2}} e^{- \\frac{r}{2 a}} \\sin{\\left (\\theta \\right )} + \\frac{r e^{i \\phi}}{4 a^{3}} e^{- \\frac{r}{2 a}} \\sin{\\left (\\theta \\right )}\\right) \\cos{\\left (\\theta \\right )} + \\frac{\\cos{\\left (\\theta \\right )}}{2 a^{2}} e^{i \\phi} e^{- \\frac{r}{2 a}} \\sin{\\left (\\theta \\right )}\\right) \\cos{\\left (\\theta \\right )} + \\left(\\left(- \\frac{e^{i \\phi}}{a^{2}} e^{- \\frac{r}{2 a}} \\sin{\\left (\\theta \\right )} + \\frac{r e^{i \\phi}}{4 a^{3}} e^{- \\frac{r}{2 a}} \\sin{\\left (\\theta \\right )}\\right) \\sin{\\left (\\phi \\right )} \\sin{\\left (\\theta \\right )} - \\frac{\\cos^{2}{\\left (\\theta \\right )}}{2 a^{2}} e^{i \\phi} e^{- \\frac{r}{2 a}} \\sin{\\left (\\phi \\right )} - \\frac{i e^{i \\phi}}{2 a^{2}} e^{- \\frac{r}{2 a}} \\cos{\\left (\\phi \\right )}\\right) \\sin{\\left (\\phi \\right )} \\sin{\\left (\\theta \\right )} + \\left(\\left(- \\frac{e^{i \\phi}}{a^{2}} e^{- \\frac{r}{2 a}} \\sin{\\left (\\theta \\right )} + \\frac{r e^{i \\phi}}{4 a^{3}} e^{- \\frac{r}{2 a}} \\sin{\\left (\\theta \\right )}\\right) \\sin{\\left (\\theta \\right )} \\cos{\\left (\\phi \\right )} + \\frac{i e^{i \\phi}}{2 a^{2}} e^{- \\frac{r}{2 a}} \\sin{\\left (\\phi \\right )} - \\frac{\\cos^{2}{\\left (\\theta \\right )}}{2 a^{2}} e^{i \\phi} e^{- \\frac{r}{2 a}} \\cos{\\left (\\phi \\right )}\\right) \\sin{\\left (\\theta \\right )} \\cos{\\left (\\phi \\right )} + \\frac{1}{r} \\left(\\left(\\frac{e^{i \\phi}}{a} e^{- \\frac{r}{2 a}} \\sin{\\left (\\theta \\right )} - \\frac{r e^{i \\phi}}{2 a^{2}} e^{- \\frac{r}{2 a}} \\sin{\\left (\\theta \\right )}\\right) \\sin{\\left (\\phi \\right )} \\cos{\\left (\\theta \\right )} + \\left(\\frac{e^{i \\phi}}{a} e^{- \\frac{r}{2 a}} \\cos{\\left (\\theta \\right )} - \\frac{r e^{i \\phi}}{2 a^{2}} e^{- \\frac{r}{2 a}} \\cos{\\left (\\theta \\right )}\\right) \\sin{\\left (\\phi \\right )} \\sin{\\left (\\theta \\right )} - \\frac{2}{a} e^{i \\phi} e^{- \\frac{r}{2 a}} \\sin{\\left (\\phi \\right )} \\sin{\\left (\\theta \\right )} \\cos{\\left (\\theta \\right )}\\right) \\sin{\\left (\\phi \\right )} \\cos{\\left (\\theta \\right )} + \\frac{1}{r} \\left(\\left(\\frac{e^{i \\phi}}{a} e^{- \\frac{r}{2 a}} \\sin{\\left (\\theta \\right )} - \\frac{r e^{i \\phi}}{2 a^{2}} e^{- \\frac{r}{2 a}} \\sin{\\left (\\theta \\right )}\\right) \\cos{\\left (\\phi \\right )} \\cos{\\left (\\theta \\right )} + \\left(\\frac{e^{i \\phi}}{a} e^{- \\frac{r}{2 a}} \\cos{\\left (\\theta \\right )} - \\frac{r e^{i \\phi}}{2 a^{2}} e^{- \\frac{r}{2 a}} \\cos{\\left (\\theta \\right )}\\right) \\sin{\\left (\\theta \\right )} \\cos{\\left (\\phi \\right )} - \\frac{2}{a} e^{i \\phi} e^{- \\frac{r}{2 a}} \\sin{\\left (\\theta \\right )} \\cos{\\left (\\phi \\right )} \\cos{\\left (\\theta \\right )}\\right) \\cos{\\left (\\phi \\right )} \\cos{\\left (\\theta \\right )} - \\frac{1}{r} \\left(- \\left(\\frac{e^{i \\phi}}{a} e^{- \\frac{r}{2 a}} \\sin{\\left (\\theta \\right )} - \\frac{r e^{i \\phi}}{2 a^{2}} e^{- \\frac{r}{2 a}} \\sin{\\left (\\theta \\right )}\\right) \\sin{\\left (\\theta \\right )} + \\left(\\frac{e^{i \\phi}}{a} e^{- \\frac{r}{2 a}} \\cos{\\left (\\theta \\right )} - \\frac{r e^{i \\phi}}{2 a^{2}} e^{- \\frac{r}{2 a}} \\cos{\\left (\\theta \\right )}\\right) \\cos{\\left (\\theta \\right )} + \\frac{e^{i \\phi}}{a} e^{- \\frac{r}{2 a}} \\sin^{2}{\\left (\\theta \\right )} - \\frac{e^{i \\phi}}{a} e^{- \\frac{r}{2 a}} \\cos^{2}{\\left (\\theta \\right )}\\right) \\sin{\\left (\\theta \\right )} - \\frac{\\sin{\\left (\\phi \\right )}}{r \\sin{\\left (\\theta \\right )}} \\left(- \\left(\\frac{e^{i \\phi}}{a} e^{- \\frac{r}{2 a}} \\sin{\\left (\\theta \\right )} - \\frac{r e^{i \\phi}}{2 a^{2}} e^{- \\frac{r}{2 a}} \\sin{\\left (\\theta \\right )}\\right) \\sin{\\left (\\phi \\right )} \\sin{\\left (\\theta \\right )} + \\left(\\frac{i}{a} e^{i \\phi} e^{- \\frac{r}{2 a}} \\sin{\\left (\\theta \\right )} - \\frac{i r e^{i \\phi}}{2 a^{2}} e^{- \\frac{r}{2 a}} \\sin{\\left (\\theta \\right )}\\right) \\sin{\\left (\\theta \\right )} \\cos{\\left (\\phi \\right )} - \\frac{e^{i \\phi}}{a} e^{- \\frac{r}{2 a}} \\sin{\\left (\\phi \\right )} \\cos^{2}{\\left (\\theta \\right )} + \\frac{e^{i \\phi}}{a} e^{- \\frac{r}{2 a}} \\sin{\\left (\\phi \\right )} + \\frac{i}{a} e^{i \\phi} e^{- \\frac{r}{2 a}} \\cos{\\left (\\phi \\right )} \\cos^{2}{\\left (\\theta \\right )} - \\frac{i}{a} e^{i \\phi} e^{- \\frac{r}{2 a}} \\cos{\\left (\\phi \\right )}\\right) + \\frac{\\cos{\\left (\\phi \\right )}}{r \\sin{\\left (\\theta \\right )}} \\left(\\left(\\frac{e^{i \\phi}}{a} e^{- \\frac{r}{2 a}} \\sin{\\left (\\theta \\right )} - \\frac{r e^{i \\phi}}{2 a^{2}} e^{- \\frac{r}{2 a}} \\sin{\\left (\\theta \\right )}\\right) \\sin{\\left (\\theta \\right )} \\cos{\\left (\\phi \\right )} + \\left(\\frac{i}{a} e^{i \\phi} e^{- \\frac{r}{2 a}} \\sin{\\left (\\theta \\right )} - \\frac{i r e^{i \\phi}}{2 a^{2}} e^{- \\frac{r}{2 a}} \\sin{\\left (\\theta \\right )}\\right) \\sin{\\left (\\phi \\right )} \\sin{\\left (\\theta \\right )} + \\frac{i}{a} e^{i \\phi} e^{- \\frac{r}{2 a}} \\sin{\\left (\\phi \\right )} \\cos^{2}{\\left (\\theta \\right )} - \\frac{i}{a} e^{i \\phi} e^{- \\frac{r}{2 a}} \\sin{\\left (\\phi \\right )} + \\frac{e^{i \\phi}}{a} e^{- \\frac{r}{2 a}} \\cos{\\left (\\phi \\right )} \\cos^{2}{\\left (\\theta \\right )} - \\frac{e^{i \\phi}}{a} e^{- \\frac{r}{2 a}} \\cos{\\left (\\phi \\right )}\\right)$$"
      ],
      "text/plain": [
       "                                                                              \n",
       "                                                                              \n",
       "                                                                              \n",
       "⎛⎛           -r                      -r        ⎞                   -r         \n",
       "⎜⎜           ───                     ───       ⎟                   ───        \n",
       "⎜⎜   ⅈ⋅\\phi  2⋅a             ⅈ⋅\\phi  2⋅a       ⎟           ⅈ⋅\\phi  2⋅a        \n",
       "⎜⎜  ℯ      ⋅ℯ   ⋅sin(θ)   r⋅ℯ      ⋅ℯ   ⋅sin(θ)⎟          ℯ      ⋅ℯ   ⋅sin(θ)⋅\n",
       "⎜⎜- ─────────────────── + ─────────────────────⎟⋅cos(θ) + ────────────────────\n",
       "⎜⎜            2                       3        ⎟                        2     \n",
       "⎝⎝           a                     4⋅a         ⎠                     2⋅a      \n",
       "\n",
       "                                                                              \n",
       "                                                                              \n",
       "                                                                              \n",
       "      ⎞          ⎛⎛           -r                      -r        ⎞             \n",
       "      ⎟          ⎜⎜           ───                     ───       ⎟             \n",
       "      ⎟          ⎜⎜   ⅈ⋅\\phi  2⋅a             ⅈ⋅\\phi  2⋅a       ⎟             \n",
       "cos(θ)⎟          ⎜⎜  ℯ      ⋅ℯ   ⋅sin(θ)   r⋅ℯ      ⋅ℯ   ⋅sin(θ)⎟             \n",
       "──────⎟⋅cos(θ) + ⎜⎜- ─────────────────── + ─────────────────────⎟⋅sin(\\phi)⋅si\n",
       "      ⎟          ⎜⎜            2                       3        ⎟             \n",
       "      ⎠          ⎝⎝           a                     4⋅a         ⎠             \n",
       "\n",
       "                                                                              \n",
       "                                                                              \n",
       "                                                                              \n",
       "                -r                                 -r           ⎞             \n",
       "                ───                                ───          ⎟             \n",
       "        ⅈ⋅\\phi  2⋅a              2         ⅈ⋅\\phi  2⋅a          ⎟             \n",
       "       ℯ      ⋅ℯ   ⋅sin(\\phi)⋅cos (θ)   ⅈ⋅ℯ      ⋅ℯ   ⋅cos(\\phi)⎟             \n",
       "n(θ) - ────────────────────────────── - ────────────────────────⎟⋅sin(\\phi)⋅si\n",
       "                       2                             2          ⎟             \n",
       "                    2⋅a                           2⋅a           ⎠             \n",
       "\n",
       "                                                                              \n",
       "                                                                              \n",
       "                                                                              \n",
       "       ⎛⎛           -r                      -r        ⎞                       \n",
       "       ⎜⎜           ───                     ───       ⎟                       \n",
       "       ⎜⎜   ⅈ⋅\\phi  2⋅a             ⅈ⋅\\phi  2⋅a       ⎟                       \n",
       "       ⎜⎜  ℯ      ⋅ℯ   ⋅sin(θ)   r⋅ℯ      ⋅ℯ   ⋅sin(θ)⎟                    ⅈ⋅ℯ\n",
       "n(θ) + ⎜⎜- ─────────────────── + ─────────────────────⎟⋅sin(θ)⋅cos(\\phi) + ───\n",
       "       ⎜⎜            2                       3        ⎟                       \n",
       "       ⎝⎝           a                     4⋅a         ⎠                       \n",
       "\n",
       "                                                                           ⎛⎛ \n",
       "                                                                           ⎜⎜ \n",
       "                                                                           ⎜⎜ \n",
       "        -r                       -r                   ⎞                    ⎜⎜ℯ\n",
       "        ───                      ───                  ⎟                    ⎜⎜─\n",
       "ⅈ⋅\\phi  2⋅a              ⅈ⋅\\phi  2⋅a              2   ⎟                    ⎜⎜ \n",
       "      ⋅ℯ   ⋅sin(\\phi)   ℯ      ⋅ℯ   ⋅cos(\\phi)⋅cos (θ)⎟                    ⎝⎝ \n",
       "───────────────────── - ──────────────────────────────⎟⋅sin(θ)⋅cos(\\phi) + ───\n",
       "          2                             2             ⎟                       \n",
       "       2⋅a                           2⋅a              ⎠                       \n",
       "\n",
       "        -r                      -r        ⎞                    ⎛         -r   \n",
       "        ───                     ───       ⎟                    ⎜         ───  \n",
       "ⅈ⋅\\phi  2⋅a             ⅈ⋅\\phi  2⋅a       ⎟                    ⎜ ⅈ⋅\\phi  2⋅a  \n",
       "      ⋅ℯ   ⋅sin(θ)   r⋅ℯ      ⋅ℯ   ⋅sin(θ)⎟                    ⎜ℯ      ⋅ℯ   ⋅c\n",
       "────────────────── - ─────────────────────⎟⋅sin(\\phi)⋅cos(θ) + ⎜──────────────\n",
       "        a                        2        ⎟                    ⎜         a    \n",
       "                              2⋅a         ⎠                    ⎝              \n",
       "──────────────────────────────────────────────────────────────────────────────\n",
       "                                                                              \n",
       "                                                                              \n",
       "\n",
       "                   -r        ⎞                               -r               \n",
       "                   ───       ⎟                               ───              \n",
       "           ⅈ⋅\\phi  2⋅a       ⎟                       ⅈ⋅\\phi  2⋅a              \n",
       "os(θ)   r⋅ℯ      ⋅ℯ   ⋅cos(θ)⎟                    2⋅ℯ      ⋅ℯ   ⋅sin(\\phi)⋅sin\n",
       "───── - ─────────────────────⎟⋅sin(\\phi)⋅sin(θ) - ────────────────────────────\n",
       "                    2        ⎟                                      a         \n",
       "                 2⋅a         ⎠                                                \n",
       "──────────────────────────────────────────────────────────────────────────────\n",
       "            r                                                                 \n",
       "                                                                              \n",
       "\n",
       "          ⎞                    ⎛⎛         -r                      -r        ⎞ \n",
       "          ⎟                    ⎜⎜         ───                     ───       ⎟ \n",
       "          ⎟                    ⎜⎜ ⅈ⋅\\phi  2⋅a             ⅈ⋅\\phi  2⋅a       ⎟ \n",
       "(θ)⋅cos(θ)⎟                    ⎜⎜ℯ      ⋅ℯ   ⋅sin(θ)   r⋅ℯ      ⋅ℯ   ⋅sin(θ)⎟ \n",
       "──────────⎟⋅sin(\\phi)⋅cos(θ)   ⎜⎜─────────────────── - ─────────────────────⎟⋅\n",
       "          ⎟                    ⎜⎜         a                        2        ⎟ \n",
       "          ⎠                    ⎝⎝                               2⋅a         ⎠ \n",
       "──────────────────────────── + ───────────────────────────────────────────────\n",
       "                                                                              \n",
       "                                                                              \n",
       "\n",
       "                   ⎛         -r                      -r        ⎞              \n",
       "                   ⎜         ───                     ───       ⎟              \n",
       "                   ⎜ ⅈ⋅\\phi  2⋅a             ⅈ⋅\\phi  2⋅a       ⎟              \n",
       "                   ⎜ℯ      ⋅ℯ   ⋅cos(θ)   r⋅ℯ      ⋅ℯ   ⋅cos(θ)⎟              \n",
       "cos(\\phi)⋅cos(θ) + ⎜─────────────────── - ─────────────────────⎟⋅sin(θ)⋅cos(\\p\n",
       "                   ⎜         a                        2        ⎟              \n",
       "                   ⎝                               2⋅a         ⎠              \n",
       "──────────────────────────────────────────────────────────────────────────────\n",
       "                                              r                               \n",
       "                                                                              \n",
       "\n",
       "                 -r                         ⎞                    ⎛  ⎛         \n",
       "                 ───                        ⎟                    ⎜  ⎜         \n",
       "         ⅈ⋅\\phi  2⋅a                        ⎟                    ⎜  ⎜ ⅈ⋅\\phi  \n",
       "      2⋅ℯ      ⋅ℯ   ⋅sin(θ)⋅cos(\\phi)⋅cos(θ)⎟                    ⎜  ⎜ℯ      ⋅ℯ\n",
       "hi) - ──────────────────────────────────────⎟⋅cos(\\phi)⋅cos(θ)   ⎜- ⎜─────────\n",
       "                        a                   ⎟                    ⎜  ⎜         \n",
       "                                            ⎠                    ⎝  ⎝         \n",
       "────────────────────────────────────────────────────────────── - ─────────────\n",
       "                                                                              \n",
       "                                                                              \n",
       "\n",
       "-r                      -r        ⎞          ⎛         -r                     \n",
       "───                     ───       ⎟          ⎜         ───                    \n",
       "2⋅a             ⅈ⋅\\phi  2⋅a       ⎟          ⎜ ⅈ⋅\\phi  2⋅a             ⅈ⋅\\phi \n",
       "   ⋅sin(θ)   r⋅ℯ      ⋅ℯ   ⋅sin(θ)⎟          ⎜ℯ      ⋅ℯ   ⋅cos(θ)   r⋅ℯ      ⋅\n",
       "────────── - ─────────────────────⎟⋅sin(θ) + ⎜─────────────────── - ──────────\n",
       "a                        2        ⎟          ⎜         a                      \n",
       "                      2⋅a         ⎠          ⎝                               2\n",
       "──────────────────────────────────────────────────────────────────────────────\n",
       "                                                                    r         \n",
       "                                                                              \n",
       "\n",
       " -r        ⎞                   -r                     -r         ⎞          ⎛ \n",
       " ───       ⎟                   ───                    ───        ⎟          ⎜ \n",
       " 2⋅a       ⎟           ⅈ⋅\\phi  2⋅a    2       ⅈ⋅\\phi  2⋅a    2   ⎟          ⎜ \n",
       "ℯ   ⋅cos(θ)⎟          ℯ      ⋅ℯ   ⋅sin (θ)   ℯ      ⋅ℯ   ⋅cos (θ)⎟          ⎜ \n",
       "───────────⎟⋅cos(θ) + ──────────────────── - ────────────────────⎟⋅sin(θ)   ⎜-\n",
       "  2        ⎟                   a                      a          ⎟          ⎜ \n",
       "⋅a         ⎠                                                     ⎠          ⎝ \n",
       "───────────────────────────────────────────────────────────────────────── - ──\n",
       "                                                                              \n",
       "                                                                              \n",
       "\n",
       " ⎛         -r                      -r        ⎞                    ⎛           \n",
       " ⎜         ───                     ───       ⎟                    ⎜           \n",
       " ⎜ ⅈ⋅\\phi  2⋅a             ⅈ⋅\\phi  2⋅a       ⎟                    ⎜   ⅈ⋅\\phi  \n",
       " ⎜ℯ      ⋅ℯ   ⋅sin(θ)   r⋅ℯ      ⋅ℯ   ⋅sin(θ)⎟                    ⎜ⅈ⋅ℯ      ⋅ℯ\n",
       " ⎜─────────────────── - ─────────────────────⎟⋅sin(\\phi)⋅sin(θ) + ⎜───────────\n",
       " ⎜         a                        2        ⎟                    ⎜          a\n",
       " ⎝                               2⋅a         ⎠                    ⎝           \n",
       "──────────────────────────────────────────────────────────────────────────────\n",
       "                                                                              \n",
       "                                                                              \n",
       "\n",
       "-r                        -r        ⎞                             -r          \n",
       "───                       ───       ⎟                             ───         \n",
       "2⋅a               ⅈ⋅\\phi  2⋅a       ⎟                     ⅈ⋅\\phi  2⋅a         \n",
       "   ⋅sin(θ)   ⅈ⋅r⋅ℯ      ⋅ℯ   ⋅sin(θ)⎟                    ℯ      ⋅ℯ   ⋅sin(\\phi\n",
       "────────── - ───────────────────────⎟⋅sin(θ)⋅cos(\\phi) - ─────────────────────\n",
       "                          2         ⎟                                  a      \n",
       "                       2⋅a          ⎠                                         \n",
       "──────────────────────────────────────────────────────────────────────────────\n",
       "                                                 r⋅sin(θ)                     \n",
       "                                                                              \n",
       "\n",
       "                     -r                         -r                            \n",
       "                     ───                        ───                           \n",
       "     2       ⅈ⋅\\phi  2⋅a                ⅈ⋅\\phi  2⋅a              2         ⅈ⋅\\\n",
       ")⋅cos (θ)   ℯ      ⋅ℯ   ⋅sin(\\phi)   ⅈ⋅ℯ      ⋅ℯ   ⋅cos(\\phi)⋅cos (θ)   ⅈ⋅ℯ   \n",
       "───────── + ────────────────────── + ──────────────────────────────── - ──────\n",
       "                      a                             a                         \n",
       "                                                                              \n",
       "──────────────────────────────────────────────────────────────────────────────\n",
       "                                                                              \n",
       "                                                                              \n",
       "\n",
       "     -r           ⎞             ⎛⎛         -r                      -r        ⎞\n",
       "     ───          ⎟             ⎜⎜         ───                     ───       ⎟\n",
       "phi  2⋅a          ⎟             ⎜⎜ ⅈ⋅\\phi  2⋅a             ⅈ⋅\\phi  2⋅a       ⎟\n",
       "   ⋅ℯ   ⋅cos(\\phi)⎟             ⎜⎜ℯ      ⋅ℯ   ⋅sin(θ)   r⋅ℯ      ⋅ℯ   ⋅sin(θ)⎟\n",
       "──────────────────⎟⋅sin(\\phi)   ⎜⎜─────────────────── - ─────────────────────⎟\n",
       "     a            ⎟             ⎜⎜         a                        2        ⎟\n",
       "                  ⎠             ⎝⎝                               2⋅a         ⎠\n",
       "───────────────────────────── + ──────────────────────────────────────────────\n",
       "                                                                              \n",
       "                                                                              \n",
       "\n",
       "                    ⎛           -r                        -r        ⎞         \n",
       "                    ⎜           ───                       ───       ⎟         \n",
       "                    ⎜   ⅈ⋅\\phi  2⋅a               ⅈ⋅\\phi  2⋅a       ⎟         \n",
       "                    ⎜ⅈ⋅ℯ      ⋅ℯ   ⋅sin(θ)   ⅈ⋅r⋅ℯ      ⋅ℯ   ⋅sin(θ)⎟         \n",
       "⋅sin(θ)⋅cos(\\phi) + ⎜───────────────────── - ───────────────────────⎟⋅sin(\\phi\n",
       "                    ⎜          a                          2         ⎟         \n",
       "                    ⎝                                  2⋅a          ⎠         \n",
       "──────────────────────────────────────────────────────────────────────────────\n",
       "                                                                              \n",
       "                                                                              \n",
       "\n",
       "                      -r                                 -r                   \n",
       "                      ───                                ───                  \n",
       "              ⅈ⋅\\phi  2⋅a              2         ⅈ⋅\\phi  2⋅a              ⅈ⋅\\p\n",
       "           ⅈ⋅ℯ      ⋅ℯ   ⋅sin(\\phi)⋅cos (θ)   ⅈ⋅ℯ      ⋅ℯ   ⋅sin(\\phi)   ℯ    \n",
       ")⋅sin(θ) + ──────────────────────────────── - ──────────────────────── + ─────\n",
       "                          a                              a                    \n",
       "                                                                              \n",
       "──────────────────────────────────────────────────────────────────────────────\n",
       "    r⋅sin(θ)                                                                  \n",
       "                                                                              \n",
       "\n",
       "    -r                               -r           ⎞          \n",
       "    ───                              ───          ⎟          \n",
       "hi  2⋅a              2       ⅈ⋅\\phi  2⋅a          ⎟          \n",
       "  ⋅ℯ   ⋅cos(\\phi)⋅cos (θ)   ℯ      ⋅ℯ   ⋅cos(\\phi)⎟          \n",
       "───────────────────────── - ──────────────────────⎟⋅cos(\\phi)\n",
       "         a                            a           ⎟          \n",
       "                                                  ⎠          \n",
       "─────────────────────────────────────────────────────────────\n",
       "                                                             \n",
       "                                                             "
      ]
     },
     "execution_count": 15,
     "metadata": {},
     "output_type": "execute_result"
    }
   ],
   "source": [
    "L2ψ=sum([ (InvJ * Matrix(3,1,[ Derivative(gradψ[i],e) for e in rtp ]).doit())[i] for i in range(3) ])\n",
    "L2ψ"
   ]
  },
  {
   "cell_type": "markdown",
   "metadata": {},
   "source": [
    "ちょっと複雑すぎる。簡単に(simplfy)してみよう"
   ]
  },
  {
   "cell_type": "code",
   "execution_count": 16,
   "metadata": {},
   "outputs": [
    {
     "data": {
      "image/png": "[encoded data removed]",
      "text/latex": [
       "$$\\frac{\\sin{\\left (\\theta \\right )}}{4 a^{3}} \\left(- 8 a + r\\right) e^{i \\phi - \\frac{r}{2 a}}$$"
      ],
      "text/plain": [
       "                      r        \n",
       "            ⅈ⋅\\phi - ───       \n",
       "                     2⋅a       \n",
       "(-8⋅a + r)⋅ℯ            ⋅sin(θ)\n",
       "───────────────────────────────\n",
       "                 3             \n",
       "              4⋅a              "
      ]
     },
     "execution_count": 16,
     "metadata": {},
     "output_type": "execute_result"
    }
   ],
   "source": [
    "simplify(L2ψ)"
   ]
  },
  {
   "cell_type": "markdown",
   "metadata": {},
   "source": [
    "ずいぶん簡単になった。やっと$H\\Psi / \\Psi = E$ を確認するところまできた。$H\\psi$を求める"
   ]
  },
  {
   "cell_type": "code",
   "execution_count": 21,
   "metadata": {},
   "outputs": [],
   "source": [
    "Hψ = -0.5 * L2ψ - Uψ"
   ]
  },
  {
   "cell_type": "code",
   "execution_count": 18,
   "metadata": {},
   "outputs": [
    {
     "data": {
      "image/png": "[encoded data removed]",
      "text/latex": [
       "$$- \\frac{1.0 r}{a^{3}} e^{i \\phi - \\frac{r}{2 a}} \\sin{\\left (\\theta \\right )}$$"
      ],
      "text/plain": [
       "                  r         \n",
       "        ⅈ⋅\\phi - ───        \n",
       "                 2⋅a        \n",
       "-1.0⋅r⋅ℯ            ⋅sin(θ) \n",
       "────────────────────────────\n",
       "              3             \n",
       "             a              "
      ]
     },
     "execution_count": 18,
     "metadata": {},
     "output_type": "execute_result"
    }
   ],
   "source": [
    "simplify(Hψ)"
   ]
  },
  {
   "cell_type": "markdown",
   "metadata": {},
   "source": [
    "これを$\\psi$で割ると実際に定数になっているだろうか? "
   ]
  },
  {
   "cell_type": "code",
   "execution_count": 19,
   "metadata": {},
   "outputs": [
    {
     "data": {
      "image/png": "[encoded data removed]",
      "text/latex": [
       "$$- \\frac{1.0}{a^{2}}$$"
      ],
      "text/plain": [
       "-1.0 \n",
       "─────\n",
       "   2 \n",
       "  a  "
      ]
     },
     "execution_count": 19,
     "metadata": {},
     "output_type": "execute_result"
    }
   ],
   "source": [
    "simplify(Hψ / ψ)"
   ]
  },
  {
   "cell_type": "markdown",
   "metadata": {},
   "source": [
    "確かに定数になった"
   ]
  },
  {
   "cell_type": "code",
   "execution_count": null,
   "metadata": {},
   "outputs": [],
   "source": []
  }
 ],
 "metadata": {
  "kernelspec": {
   "display_name": "Python 3",
   "language": "python",
   "name": "python3"
  },
  "language_info": {
   "codemirror_mode": {
    "name": "ipython",
    "version": 3
   },
   "file_extension": ".py",
   "mimetype": "text/x-python",
   "name": "python",
   "nbconvert_exporter": "python",
   "pygments_lexer": "ipython3",
   "version": "3.5.5"
  }
 },
 "nbformat": 4,
 "nbformat_minor": 2
}
