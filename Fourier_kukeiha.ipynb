{
 "cells": [
  {
   "cell_type": "code",
   "execution_count": 1,
   "metadata": {
    "collapsed": true
   },
   "outputs": [],
   "source": [
    "from sympy import *"
   ]
  },
  {
   "cell_type": "code",
   "execution_count": 2,
   "metadata": {
    "collapsed": true
   },
   "outputs": [],
   "source": [
    "import matplotlib.pyplot as plt"
   ]
  },
  {
   "cell_type": "code",
   "execution_count": 3,
   "metadata": {
    "collapsed": true
   },
   "outputs": [],
   "source": [
    "%matplotlib inline"
   ]
  },
  {
   "cell_type": "code",
   "execution_count": 4,
   "metadata": {
    "collapsed": true
   },
   "outputs": [],
   "source": [
    "init_printing()"
   ]
  },
  {
   "cell_type": "code",
   "execution_count": 5,
   "metadata": {
    "collapsed": true
   },
   "outputs": [],
   "source": [
    "x = Symbol('x')"
   ]
  },
  {
   "cell_type": "code",
   "execution_count": 6,
   "metadata": {
    "collapsed": true
   },
   "outputs": [],
   "source": [
    "n = Symbol ('n', integer=True, positive=True)"
   ]
  },
  {
   "cell_type": "code",
   "execution_count": 7,
   "metadata": {
    "collapsed": false
   },
   "outputs": [
    {
     "data": {
      "image/png": "[encoded data removed]",
      "text/latex": [
       "$$\\frac{1}{\\sqrt{\\pi}} \\left(\\int_{- \\pi}^{0} - \\sin{\\left (n x \\right )}\\, dx + \\int_{0}^{\\pi} \\sin{\\left (n x \\right )}\\, dx\\right) = \\frac{1}{\\sqrt{\\pi} n} \\left(- 2 \\left(-1\\right)^{n} + 2\\right)$$"
      ],
      "text/plain": [
       "0                 π                              \n",
       "⌠                 ⌠                              \n",
       "⎮  -sin(n⋅x) dx + ⎮ sin(n⋅x) dx                  \n",
       "⌡                 ⌡                 ⎛      n    ⎞\n",
       "-π                0               2⋅⎝- (-1)  + 1⎠\n",
       "─────────────────────────────── = ───────────────\n",
       "               √π                       √π⋅n     "
      ]
     },
     "execution_count": 7,
     "metadata": {},
     "output_type": "execute_result"
    }
   ],
   "source": [
    "a=(Integral(-1*sin(n*x),(x,-pi,0))+Integral(1*sin(n*x),(x,0,pi)))/sqrt(pi)\n",
    "Eq(a,simplify(a.doit()))"
   ]
  },
  {
   "cell_type": "code",
   "execution_count": 8,
   "metadata": {
    "collapsed": false
   },
   "outputs": [
    {
     "data": {
      "image/png": "[encoded data removed]",
      "text/latex": [
       "$$\\frac{1}{\\sqrt{\\pi}} \\left(\\int_{- \\pi}^{0} - \\cos{\\left (n x \\right )}\\, dx + \\int_{0}^{\\pi} \\cos{\\left (n x \\right )}\\, dx\\right) = 0$$"
      ],
      "text/plain": [
       "0                 π                \n",
       "⌠                 ⌠                \n",
       "⎮  -cos(n⋅x) dx + ⎮ cos(n⋅x) dx    \n",
       "⌡                 ⌡                \n",
       "-π                0                \n",
       "─────────────────────────────── = 0\n",
       "               √π                  "
      ]
     },
     "execution_count": 8,
     "metadata": {},
     "output_type": "execute_result"
    }
   ],
   "source": [
    "b=(Integral(-1*cos(n*x),(x,-pi,0))+Integral(1*cos(n*x),(x,0,pi)))/sqrt(pi)\n",
    "Eq(b,simplify(b.doit()))"
   ]
  },
  {
   "cell_type": "code",
   "execution_count": 9,
   "metadata": {
    "collapsed": false
   },
   "outputs": [
    {
     "data": {
      "image/png": "[encoded data removed]",
      "text/latex": [
       "$$\\frac{2}{\\pi n} \\left(- \\left(-1\\right)^{n} + 1\\right) \\sin{\\left (n x \\right )}$$"
      ],
      "text/plain": [
       "  ⎛      n    ⎞         \n",
       "2⋅⎝- (-1)  + 1⎠⋅sin(n⋅x)\n",
       "────────────────────────\n",
       "          π⋅n           "
      ]
     },
     "execution_count": 9,
     "metadata": {},
     "output_type": "execute_result"
    }
   ],
   "source": [
    "c=simplify(a.doit())/sqrt(pi)*sin(n*x)\n",
    "c"
   ]
  },
  {
   "cell_type": "code",
   "execution_count": 10,
   "metadata": {
    "collapsed": false
   },
   "outputs": [
    {
     "data": {
      "image/png": "[encoded data removed]",
      "text/latex": [
       "$$\\sum_{n=1}^{20} \\frac{2}{\\pi n} \\left(- \\left(-1\\right)^{n} + 1\\right) \\sin{\\left (n x \\right )} = \\frac{4}{\\pi} \\sin{\\left (x \\right )} + \\frac{4}{3 \\pi} \\sin{\\left (3 x \\right )} + \\frac{4}{5 \\pi} \\sin{\\left (5 x \\right )} + \\frac{4}{7 \\pi} \\sin{\\left (7 x \\right )} + \\frac{4}{9 \\pi} \\sin{\\left (9 x \\right )} + \\frac{4}{11 \\pi} \\sin{\\left (11 x \\right )} + \\frac{4}{13 \\pi} \\sin{\\left (13 x \\right )} + \\frac{4}{15 \\pi} \\sin{\\left (15 x \\right )} + \\frac{4}{17 \\pi} \\sin{\\left (17 x \\right )} + \\frac{4}{19 \\pi} \\sin{\\left (19 x \\right )}$$"
      ],
      "text/plain": [
       "  20                                                                          \n",
       " ____                                                                         \n",
       " ╲                                                                            \n",
       "  ╲     ⎛      n    ⎞                                                         \n",
       "   ╲  2⋅⎝- (-1)  + 1⎠⋅sin(n⋅x)   4⋅sin(x)   4⋅sin(3⋅x)   4⋅sin(5⋅x)   4⋅sin(7⋅\n",
       "   ╱  ──────────────────────── = ──────── + ────────── + ────────── + ────────\n",
       "  ╱             π⋅n                 π          3⋅π          5⋅π          7⋅π  \n",
       " ╱                                                                            \n",
       " ‾‾‾‾                                                                         \n",
       "n = 1                                                                         \n",
       "\n",
       "                                                                              \n",
       "                                                                              \n",
       "                                                                              \n",
       "                                                                              \n",
       "x)   4⋅sin(9⋅x)   4⋅sin(11⋅x)   4⋅sin(13⋅x)   4⋅sin(15⋅x)   4⋅sin(17⋅x)   4⋅si\n",
       "── + ────────── + ─────────── + ─────────── + ─────────── + ─────────── + ────\n",
       "        9⋅π           11⋅π          13⋅π          15⋅π          17⋅π          \n",
       "                                                                              \n",
       "                                                                              \n",
       "                                                                              \n",
       "\n",
       "       \n",
       "       \n",
       "       \n",
       "       \n",
       "n(19⋅x)\n",
       "───────\n",
       "19⋅π   \n",
       "       \n",
       "       \n",
       "       "
      ]
     },
     "execution_count": 10,
     "metadata": {},
     "output_type": "execute_result"
    }
   ],
   "source": [
    "d=Sum(c,(n,1,20))\n",
    "Eq(d,d.doit())"
   ]
  },
  {
   "cell_type": "code",
   "execution_count": 11,
   "metadata": {
    "collapsed": false
   },
   "outputs": [
    {
     "data": {
      "image/png": "[encoded data removed]",
      "text/plain": [
       "<matplotlib.figure.Figure at 0x117ccc9e8>"
      ]
     },
     "metadata": {},
     "output_type": "display_data"
    },
    {
     "data": {
      "text/plain": [
       "<sympy.plotting.plot.Plot at 0x117ccc588>"
      ]
     },
     "execution_count": 11,
     "metadata": {},
     "output_type": "execute_result"
    }
   ],
   "source": [
    "plot(d.doit(), (x, -2*pi,2*pi))"
   ]
  },
  {
   "cell_type": "code",
   "execution_count": 12,
   "metadata": {
    "collapsed": false
   },
   "outputs": [
    {
     "data": {
      "image/png": "[encoded data removed]",
      "text/plain": [
       "<matplotlib.figure.Figure at 0x117d99128>"
      ]
     },
     "metadata": {},
     "output_type": "display_data"
    },
    {
     "data": {
      "text/plain": [
       "<sympy.plotting.plot.Plot at 0x117d99780>"
      ]
     },
     "execution_count": 12,
     "metadata": {},
     "output_type": "execute_result"
    }
   ],
   "source": [
    "d=Sum(c,(n,1,100))\n",
    "plot(d.doit(), (x, -2*pi,2*pi))"
   ]
  },
  {
   "cell_type": "code",
   "execution_count": null,
   "metadata": {
    "collapsed": true
   },
   "outputs": [],
   "source": []
  }
 ],
 "metadata": {
  "kernelspec": {
   "display_name": "Python 3",
   "language": "python",
   "name": "python3"
  },
  "language_info": {
   "codemirror_mode": {
    "name": "ipython",
    "version": 3
   },
   "file_extension": ".py",
   "mimetype": "text/x-python",
   "name": "python",
   "nbconvert_exporter": "python",
   "pygments_lexer": "ipython3",
   "version": "3.5.3"
  }
 },
 "nbformat": 4,
 "nbformat_minor": 1
}
