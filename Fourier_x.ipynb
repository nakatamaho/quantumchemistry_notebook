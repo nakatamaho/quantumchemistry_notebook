{
 "cells": [
  {
   "cell_type": "code",
   "execution_count": 1,
   "metadata": {
    "collapsed": true
   },
   "outputs": [],
   "source": [
    "from sympy import *"
   ]
  },
  {
   "cell_type": "code",
   "execution_count": 2,
   "metadata": {
    "collapsed": true
   },
   "outputs": [],
   "source": [
    "import matplotlib.pyplot as plt"
   ]
  },
  {
   "cell_type": "code",
   "execution_count": 3,
   "metadata": {
    "collapsed": true
   },
   "outputs": [],
   "source": [
    "%matplotlib inline"
   ]
  },
  {
   "cell_type": "code",
   "execution_count": 4,
   "metadata": {
    "collapsed": true
   },
   "outputs": [],
   "source": [
    "init_printing()"
   ]
  },
  {
   "cell_type": "code",
   "execution_count": 5,
   "metadata": {
    "collapsed": true
   },
   "outputs": [],
   "source": [
    "x = Symbol('x')"
   ]
  },
  {
   "cell_type": "code",
   "execution_count": 6,
   "metadata": {
    "collapsed": true
   },
   "outputs": [],
   "source": [
    "n = Symbol ('n', integer=True, positive=True)"
   ]
  },
  {
   "cell_type": "code",
   "execution_count": 7,
   "metadata": {
    "collapsed": false
   },
   "outputs": [
    {
     "data": {
      "image/png": "[encoded data removed]",
      "text/latex": [
       "$$\\frac{1}{\\sqrt{\\pi}} \\int_{- \\pi}^{\\pi} x \\sin{\\left (n x \\right )}\\, dx = - \\frac{2 \\left(-1\\right)^{n}}{n} \\sqrt{\\pi}$$"
      ],
      "text/plain": [
       "π                              \n",
       "⌠                              \n",
       "⎮  x⋅sin(n⋅x) dx               \n",
       "⌡                         n    \n",
       "-π                 -2⋅(-1) ⋅√π \n",
       "──────────────── = ────────────\n",
       "       √π               n      "
      ]
     },
     "execution_count": 7,
     "metadata": {},
     "output_type": "execute_result"
    }
   ],
   "source": [
    "a= Integral(x*sin(n*x),(x,-pi,pi))/sqrt(pi)\n",
    "Eq(a,simplify(a.doit()))"
   ]
  },
  {
   "cell_type": "code",
   "execution_count": 8,
   "metadata": {
    "collapsed": false
   },
   "outputs": [
    {
     "data": {
      "image/png": "[encoded data removed]",
      "text/latex": [
       "$$\\frac{1}{\\sqrt{\\pi}} \\int_{- \\pi}^{\\pi} x \\cos{\\left (n x \\right )}\\, dx = 0$$"
      ],
      "text/plain": [
       "π                   \n",
       "⌠                   \n",
       "⎮  x⋅cos(n⋅x) dx    \n",
       "⌡                   \n",
       "-π                  \n",
       "──────────────── = 0\n",
       "       √π           "
      ]
     },
     "execution_count": 8,
     "metadata": {},
     "output_type": "execute_result"
    }
   ],
   "source": [
    "b= Integral(x*cos(n*x),(x,-pi,pi))/sqrt(pi)\n",
    "Eq(b,simplify(b.doit()))"
   ]
  },
  {
   "cell_type": "code",
   "execution_count": 9,
   "metadata": {
    "collapsed": false
   },
   "outputs": [
    {
     "data": {
      "image/png": "[encoded data removed]",
      "text/latex": [
       "$$\\frac{\\sqrt{2}}{2 \\sqrt{\\pi}} \\int_{- \\pi}^{\\pi} x\\, dx = 0$$"
      ],
      "text/plain": [
       "   π          \n",
       "   ⌠          \n",
       "√2⋅⎮  x dx    \n",
       "   ⌡          \n",
       "   -π         \n",
       "────────── = 0\n",
       "   2⋅√π       "
      ]
     },
     "execution_count": 9,
     "metadata": {},
     "output_type": "execute_result"
    }
   ],
   "source": [
    "g=Integral(x,(x,-pi,pi))/sqrt(2*pi)\n",
    "Eq(g,g.doit())"
   ]
  },
  {
   "cell_type": "code",
   "execution_count": 17,
   "metadata": {
    "collapsed": false
   },
   "outputs": [
    {
     "data": {
      "image/png": "[encoded data removed]",
      "text/latex": [
       "$$- \\frac{2 \\left(-1\\right)^{n}}{n} \\sin{\\left (n x \\right )}$$"
      ],
      "text/plain": [
       "       n          \n",
       "-2⋅(-1) ⋅sin(n⋅x) \n",
       "──────────────────\n",
       "        n         "
      ]
     },
     "execution_count": 17,
     "metadata": {},
     "output_type": "execute_result"
    }
   ],
   "source": [
    "c=simplify(a.doit())/sqrt(pi)*sin(n*x)\n",
    "c"
   ]
  },
  {
   "cell_type": "code",
   "execution_count": 30,
   "metadata": {
    "collapsed": false
   },
   "outputs": [
    {
     "data": {
      "image/png": "[encoded data removed]",
      "text/latex": [
       "$$\\sum_{n=1}^{30} - \\frac{2 \\left(-1\\right)^{n}}{n} \\sin{\\left (n x \\right )} = 2 \\sin{\\left (x \\right )} - \\sin{\\left (2 x \\right )} + \\frac{2}{3} \\sin{\\left (3 x \\right )} - \\frac{1}{2} \\sin{\\left (4 x \\right )} + \\frac{2}{5} \\sin{\\left (5 x \\right )} - \\frac{1}{3} \\sin{\\left (6 x \\right )} + \\frac{2}{7} \\sin{\\left (7 x \\right )} - \\frac{1}{4} \\sin{\\left (8 x \\right )} + \\frac{2}{9} \\sin{\\left (9 x \\right )} - \\frac{1}{5} \\sin{\\left (10 x \\right )} + \\frac{2}{11} \\sin{\\left (11 x \\right )} - \\frac{1}{6} \\sin{\\left (12 x \\right )} + \\frac{2}{13} \\sin{\\left (13 x \\right )} - \\frac{1}{7} \\sin{\\left (14 x \\right )} + \\frac{2}{15} \\sin{\\left (15 x \\right )} - \\frac{1}{8} \\sin{\\left (16 x \\right )} + \\frac{2}{17} \\sin{\\left (17 x \\right )} - \\frac{1}{9} \\sin{\\left (18 x \\right )} + \\frac{2}{19} \\sin{\\left (19 x \\right )} - \\frac{1}{10} \\sin{\\left (20 x \\right )} + \\frac{2}{21} \\sin{\\left (21 x \\right )} - \\frac{1}{11} \\sin{\\left (22 x \\right )} + \\frac{2}{23} \\sin{\\left (23 x \\right )} - \\frac{1}{12} \\sin{\\left (24 x \\right )} + \\frac{2}{25} \\sin{\\left (25 x \\right )} - \\frac{1}{13} \\sin{\\left (26 x \\right )} + \\frac{2}{27} \\sin{\\left (27 x \\right )} - \\frac{1}{14} \\sin{\\left (28 x \\right )} + \\frac{2}{29} \\sin{\\left (29 x \\right )} - \\frac{1}{15} \\sin{\\left (30 x \\right )}$$"
      ],
      "text/plain": [
       "  30                                                                          \n",
       " ____                                                                         \n",
       " ╲                                                                            \n",
       "  ╲          n                                                                \n",
       "   ╲  -2⋅(-1) ⋅sin(n⋅x)                          2⋅sin(3⋅x)   sin(4⋅x)   2⋅sin\n",
       "   ╱  ────────────────── = 2⋅sin(x) - sin(2⋅x) + ────────── - ──────── + ─────\n",
       "  ╱           n                                      3           2           5\n",
       " ╱                                                                            \n",
       " ‾‾‾‾                                                                         \n",
       "n = 1                                                                         \n",
       "\n",
       "                                                                              \n",
       "                                                                              \n",
       "                                                                              \n",
       "                                                                              \n",
       "(5⋅x)   sin(6⋅x)   2⋅sin(7⋅x)   sin(8⋅x)   2⋅sin(9⋅x)   sin(10⋅x)   2⋅sin(11⋅x\n",
       "───── - ──────── + ────────── - ──────── + ────────── - ───────── + ──────────\n",
       "           3           7           4           9            5            11   \n",
       "                                                                              \n",
       "                                                                              \n",
       "                                                                              \n",
       "\n",
       "                                                                              \n",
       "                                                                              \n",
       "                                                                              \n",
       "                                                                              \n",
       ")   sin(12⋅x)   2⋅sin(13⋅x)   sin(14⋅x)   2⋅sin(15⋅x)   sin(16⋅x)   2⋅sin(17⋅x\n",
       "─ - ───────── + ─────────── - ───────── + ─────────── - ───────── + ──────────\n",
       "        6            13           7            15           8            17   \n",
       "                                                                              \n",
       "                                                                              \n",
       "                                                                              \n",
       "\n",
       "                                                                              \n",
       "                                                                              \n",
       "                                                                              \n",
       "                                                                              \n",
       ")   sin(18⋅x)   2⋅sin(19⋅x)   sin(20⋅x)   2⋅sin(21⋅x)   sin(22⋅x)   2⋅sin(23⋅x\n",
       "─ - ───────── + ─────────── - ───────── + ─────────── - ───────── + ──────────\n",
       "        9            19           10           21           11           23   \n",
       "                                                                              \n",
       "                                                                              \n",
       "                                                                              \n",
       "\n",
       "                                                                              \n",
       "                                                                              \n",
       "                                                                              \n",
       "                                                                              \n",
       ")   sin(24⋅x)   2⋅sin(25⋅x)   sin(26⋅x)   2⋅sin(27⋅x)   sin(28⋅x)   2⋅sin(29⋅x\n",
       "─ - ───────── + ─────────── - ───────── + ─────────── - ───────── + ──────────\n",
       "        12           25           13           27           14           29   \n",
       "                                                                              \n",
       "                                                                              \n",
       "                                                                              \n",
       "\n",
       "             \n",
       "             \n",
       "             \n",
       "             \n",
       ")   sin(30⋅x)\n",
       "─ - ─────────\n",
       "        15   \n",
       "             \n",
       "             \n",
       "             "
      ]
     },
     "execution_count": 30,
     "metadata": {},
     "output_type": "execute_result"
    }
   ],
   "source": [
    "d=Sum(c,(n,1,30))\n",
    "Eq(d,d.doit())"
   ]
  },
  {
   "cell_type": "code",
   "execution_count": 25,
   "metadata": {
    "collapsed": true
   },
   "outputs": [],
   "source": [
    "f=d.doit()"
   ]
  },
  {
   "cell_type": "code",
   "execution_count": 29,
   "metadata": {
    "collapsed": false
   },
   "outputs": [
    {
     "data": {
      "image/png": "[encoded data removed]",
      "text/plain": [
       "<matplotlib.figure.Figure at 0x11969fd68>"
      ]
     },
     "metadata": {},
     "output_type": "display_data"
    },
    {
     "data": {
      "text/plain": [
       "<sympy.plotting.plot.Plot at 0x11944ce48>"
      ]
     },
     "execution_count": 29,
     "metadata": {},
     "output_type": "execute_result"
    }
   ],
   "source": [
    "plot(f, (x, -2*pi, 2*pi))"
   ]
  },
  {
   "cell_type": "code",
   "execution_count": null,
   "metadata": {
    "collapsed": true
   },
   "outputs": [],
   "source": []
  }
 ],
 "metadata": {
  "kernelspec": {
   "display_name": "Python 3",
   "language": "python",
   "name": "python3"
  },
  "language_info": {
   "codemirror_mode": {
    "name": "ipython",
    "version": 3
   },
   "file_extension": ".py",
   "mimetype": "text/x-python",
   "name": "python",
   "nbconvert_exporter": "python",
   "pygments_lexer": "ipython3",
   "version": "3.5.3"
  }
 },
 "nbformat": 4,
 "nbformat_minor": 1
}
